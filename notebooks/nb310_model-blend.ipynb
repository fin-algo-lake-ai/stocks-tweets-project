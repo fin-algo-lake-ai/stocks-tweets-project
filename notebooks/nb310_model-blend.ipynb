{
 "cells": [
  {
   "cell_type": "code",
   "execution_count": null,
   "id": "6ddc1c79",
   "metadata": {
    "ExecuteTime": {
     "end_time": "2022-12-05T20:38:24.406644Z",
     "start_time": "2022-12-05T20:38:24.400646Z"
    },
    "id": "6ddc1c79"
   },
   "outputs": [],
   "source": [
    "# Version history:\n",
    "# 2022-12-05: v6: added function set_seed\n",
    "# 2022-12-04: v5: CatBoost and transformers are added\n",
    "# 2022-12-03: v4: added random_state=42 to make_label_distribution_equal. Fixed f-string in \"Unexpected model tag: {model_tag}\". Metrics: 0.497 +- 0.002, 0.502 +- 0.003\n",
    "# 2022-12-03: v4: added function make_label_distribution_equal, added np.std to final output\n",
    "# 2022-12-03: v3: added colab section. Metrics: 0.507, 0.497"
   ]
  },
  {
   "cell_type": "markdown",
   "id": "McUNYSRES3BJ",
   "metadata": {
    "id": "McUNYSRES3BJ"
   },
   "source": [
    "# ===== Part0 - env preparation ====="
   ]
  },
  {
   "cell_type": "markdown",
   "id": "QGwHFA6bTWrP",
   "metadata": {
    "id": "QGwHFA6bTWrP"
   },
   "source": [
    "## System info"
   ]
  },
  {
   "cell_type": "code",
   "execution_count": null,
   "id": "hGqZ4q0xTZzk",
   "metadata": {
    "colab": {
     "base_uri": "https://localhost:8080/"
    },
    "executionInfo": {
     "elapsed": 695,
     "status": "ok",
     "timestamp": 1670958272771,
     "user": {
      "displayName": "AnT",
      "userId": "07342426211356883844"
     },
     "user_tz": -180
    },
    "id": "hGqZ4q0xTZzk",
    "outputId": "7f01dd64-91f6-45e4-f8d8-ee424ac46406"
   },
   "outputs": [
    {
     "name": "stdout",
     "output_type": "stream",
     "text": [
      "Tue Dec 13 19:04:32 2022       \n",
      "+-----------------------------------------------------------------------------+\n",
      "| NVIDIA-SMI 460.32.03    Driver Version: 460.32.03    CUDA Version: 11.2     |\n",
      "|-------------------------------+----------------------+----------------------+\n",
      "| GPU  Name        Persistence-M| Bus-Id        Disp.A | Volatile Uncorr. ECC |\n",
      "| Fan  Temp  Perf  Pwr:Usage/Cap|         Memory-Usage | GPU-Util  Compute M. |\n",
      "|                               |                      |               MIG M. |\n",
      "|===============================+======================+======================|\n",
      "|   0  Tesla T4            Off  | 00000000:00:04.0 Off |                    0 |\n",
      "| N/A   71C    P0    30W /  70W |      0MiB / 15109MiB |      0%      Default |\n",
      "|                               |                      |                  N/A |\n",
      "+-------------------------------+----------------------+----------------------+\n",
      "                                                                               \n",
      "+-----------------------------------------------------------------------------+\n",
      "| Processes:                                                                  |\n",
      "|  GPU   GI   CI        PID   Type   Process name                  GPU Memory |\n",
      "|        ID   ID                                                   Usage      |\n",
      "|=============================================================================|\n",
      "|  No running processes found                                                 |\n",
      "+-----------------------------------------------------------------------------+\n",
      "8d9be9b38611\n",
      "Linux 8d9be9b38611 5.10.133+ #1 SMP Fri Aug 26 08:44:51 UTC 2022 x86_64 x86_64 x86_64 GNU/Linux\n",
      "Filesystem      Size  Used Avail Use% Mounted on\n",
      "overlay          79G   23G   56G  30% /\n"
     ]
    }
   ],
   "source": [
    "# Print system id\n",
    "!nvidia-smi\n",
    "!hostname\n",
    "!uname -a\n",
    "!df -kh /tmp"
   ]
  },
  {
   "cell_type": "code",
   "execution_count": null,
   "id": "mPQv8mUdTfBI",
   "metadata": {
    "colab": {
     "base_uri": "https://localhost:8080/"
    },
    "executionInfo": {
     "elapsed": 20,
     "status": "ok",
     "timestamp": 1670940290083,
     "user": {
      "displayName": "AnT",
      "userId": "07342426211356883844"
     },
     "user_tz": -180
    },
    "id": "mPQv8mUdTfBI",
    "outputId": "93d2a18b-c3b0-496b-93c7-fef865edf390"
   },
   "outputs": [
    {
     "name": "stdout",
     "output_type": "stream",
     "text": [
      "Python 3.8.16\n"
     ]
    }
   ],
   "source": [
    "!python -V  # If version < 3.9 then some f-string features may not work"
   ]
  },
  {
   "cell_type": "markdown",
   "id": "Fbf57Rw8Tkbp",
   "metadata": {
    "id": "Fbf57Rw8Tkbp"
   },
   "source": [
    "## Mount drive (if required)"
   ]
  },
  {
   "cell_type": "code",
   "execution_count": null,
   "id": "iwY_m2koduAf",
   "metadata": {
    "colab": {
     "base_uri": "https://localhost:8080/"
    },
    "executionInfo": {
     "elapsed": 3425,
     "status": "ok",
     "timestamp": 1670940293497,
     "user": {
      "displayName": "AnT",
      "userId": "07342426211356883844"
     },
     "user_tz": -180
    },
    "id": "iwY_m2koduAf",
    "outputId": "237a8e50-5347-4ad6-92de-63035a1c528d"
   },
   "outputs": [
    {
     "name": "stdout",
     "output_type": "stream",
     "text": [
      "Drive already mounted at /content/drive; to attempt to forcibly remount, call drive.mount(\"/content/drive\", force_remount=True).\n"
     ]
    },
    {
     "data": {
      "text/plain": [
       "True"
      ]
     },
     "execution_count": 12,
     "metadata": {},
     "output_type": "execute_result"
    }
   ],
   "source": [
    "TO_USE_COLAB = None\n",
    "try:\n",
    "    PATH_MOUNT = \"/content/drive\"\n",
    "    from google.colab import drive\n",
    "    drive.mount(PATH_MOUNT)\n",
    "    TO_USE_COLAB = True\n",
    "except:\n",
    "    TO_USE_COLAB = False\n",
    "TO_USE_COLAB"
   ]
  },
  {
   "cell_type": "code",
   "execution_count": null,
   "id": "sblv0ZCPeAj-",
   "metadata": {
    "id": "sblv0ZCPeAj-"
   },
   "outputs": [],
   "source": [
    "import os\n",
    "if TO_USE_COLAB:\n",
    "    PATH_MAIN_DIR = f\"{PATH_MOUNT}/MyDrive/_PR_ROOT/_2022/2022-11_NLP-Huawei_Final_project/stocktwits_finsentiment_analysis/notebooks\"\n",
    "    #PATH_MAIN_DIR = f\"{PATH_MOUNT}/MyDrive/nlp_final_prj/\"\n",
    "else:\n",
    "    PATH_MAIN_DIR = \".\"\n",
    "assert os.path.isdir(PATH_MAIN_DIR)"
   ]
  },
  {
   "cell_type": "code",
   "execution_count": null,
   "id": "22oY2W1sT4aN",
   "metadata": {
    "colab": {
     "base_uri": "https://localhost:8080/"
    },
    "executionInfo": {
     "elapsed": 11,
     "status": "ok",
     "timestamp": 1670940295497,
     "user": {
      "displayName": "AnT",
      "userId": "07342426211356883844"
     },
     "user_tz": -180
    },
    "id": "22oY2W1sT4aN",
    "outputId": "3f52532a-9ef4-433e-dd56-83ef81223b1a"
   },
   "outputs": [
    {
     "name": "stdout",
     "output_type": "stream",
     "text": [
      "/content\n"
     ]
    }
   ],
   "source": [
    "#%cd $PATH_MAIN_DIR  # Commented not to put there temp data\n",
    "!pwd"
   ]
  },
  {
   "cell_type": "markdown",
   "id": "eb56906c",
   "metadata": {
    "id": "eb56906c"
   },
   "source": [
    "# ===== Part 1: prepare dataset ====="
   ]
  },
  {
   "cell_type": "markdown",
   "id": "fcbb4236",
   "metadata": {
    "id": "fcbb4236"
   },
   "source": [
    "## Imports "
   ]
  },
  {
   "cell_type": "code",
   "execution_count": null,
   "id": "b075d2cf",
   "metadata": {
    "ExecuteTime": {
     "end_time": "2022-12-05T20:36:28.550451Z",
     "start_time": "2022-12-05T20:36:26.170649Z"
    },
    "id": "b075d2cf"
   },
   "outputs": [],
   "source": [
    "import numpy as np\n",
    "import os\n",
    "import pandas as pd\n",
    "import random\n",
    "from sklearn.model_selection import train_test_split\n",
    "import time\n",
    "import torch"
   ]
  },
  {
   "cell_type": "markdown",
   "id": "ea14453e",
   "metadata": {
    "id": "ea14453e"
   },
   "source": [
    "## Paths and settings"
   ]
  },
  {
   "cell_type": "code",
   "execution_count": null,
   "id": "ea8566f0",
   "metadata": {
    "ExecuteTime": {
     "end_time": "2022-12-05T20:35:21.446944Z",
     "start_time": "2022-12-05T20:35:21.411938Z"
    },
    "id": "ea8566f0"
   },
   "outputs": [],
   "source": [
    "# Files and folders\n",
    "\n",
    "DIR_DATA_SRC = os.path.join(PATH_MAIN_DIR, r'../data/interim/040_output__nb010_v1')\n",
    "\n",
    "#FNAMES = ['VIX_RmSW=0_RmRep=0_1y_top10.csv', 'VIX_RmSW=0_RmRep=0_1y_top10.csv' ]  # Loads in <1 sec\n",
    "FNAMES = ['AMZN_RmSW=0_RmRep=0_1y.csv.gz', 'NFLX_RmSW=0_RmRep=0_1y.csv.gz', ]  # Loads in ~10-20 seconds\n",
    "#FNAMES = ['AAPL_RmSW=0_RmRep=0_1y.csv.gz', ]  # Loads in 20-30 sec\n",
    "\n",
    "assert os.path.isdir(DIR_DATA_SRC), f\"Folder not found: {DIR_DATA_SRC}\"\n",
    "for f in FNAMES:\n",
    "    assert os.path.isfile(os.path.join(DIR_DATA_SRC, f)), f\"File not found: {f}\""
   ]
  },
  {
   "cell_type": "code",
   "execution_count": null,
   "id": "a5806080",
   "metadata": {
    "ExecuteTime": {
     "end_time": "2022-12-05T20:35:33.257949Z",
     "start_time": "2022-12-05T20:35:33.239949Z"
    },
    "id": "a5806080"
   },
   "outputs": [],
   "source": [
    "# Dataset preparation settings\n",
    "\n",
    "DROP_RECORDS_BEFORE_DATE_INCLUSIVE = '2019-07-20'  # Last date in datasets is 2020-07-21\n",
    "LABEL_GEN_STRATEGY = \"d1_C=d1_O=0.5%=2cls\"  # This string is a \"key\", see function XXX for explanations\n",
    "COL_FEATURES = ['symbol', 'message', 'datetime', 'user', 'message_id', 'Date']  #, 'Time']\n",
    "COL_LABEL = 'label'\n",
    "COL_PCR = 'price_change_ratio'\n",
    "\n",
    "TEST_SIZE = 0.15\n",
    "TRAIN_SIZE = 1.0 - TEST_SIZE"
   ]
  },
  {
   "cell_type": "markdown",
   "id": "ca878418",
   "metadata": {
    "id": "ca878418"
   },
   "source": [
    "## Defs\n",
    "Here are \"pure\" functions."
   ]
  },
  {
   "cell_type": "code",
   "execution_count": null,
   "id": "5d990e81",
   "metadata": {
    "ExecuteTime": {
     "end_time": "2022-12-05T20:35:34.864114Z",
     "start_time": "2022-12-05T20:35:34.855113Z"
    },
    "id": "5d990e81"
   },
   "outputs": [],
   "source": [
    "# More info: https://pytorch.org/docs/stable/notes/randomness.html\n",
    "def init_seeds(seed=42):\n",
    "    # Python and CPU-related entropy  \n",
    "    random.seed(seed)      \n",
    "    os.environ[\"PYTHONHASHSEED\"] = str(seed)\n",
    "    np.random.seed(seed)\n",
    "    torch.manual_seed(seed)\n",
    "    # torch.use_deterministic_algorithms(True)   # Raises a CUBLAS error on some cases\n",
    "    # os.environ[\"CUBLAS_WORKSPACE_CONFIG\"] = \":4096:8\"  # Does not help for the error above\n",
    "\n",
    "    # GPU-related entropy\n",
    "    if torch.cuda.is_available():\n",
    "        torch.cuda.manual_seed(seed)\n",
    "        torch.cuda.manual_seed_all(seed) # gpu vars\n",
    "        torch.backends.cudnn.benchmark = False  # See \n",
    "        torch.backends.cudnn.deterministic = True"
   ]
  },
  {
   "cell_type": "code",
   "execution_count": null,
   "id": "c81fd676",
   "metadata": {
    "ExecuteTime": {
     "end_time": "2022-12-05T20:32:40.900825Z",
     "start_time": "2022-12-05T20:32:40.878837Z"
    },
    "id": "c81fd676"
   },
   "outputs": [],
   "source": [
    "# Function for the \"worker_init_fn\" param of torch DataLoader\n",
    "# More info: https://pytorch.org/docs/stable/notes/randomness.html\n",
    "def seed_worker(worker_id):\n",
    "    worker_seed = torch.initial_seed() % 2**32\n",
    "    random.seed(worker_seed)\n",
    "    np.random.seed(worker_seed)"
   ]
  },
  {
   "cell_type": "code",
   "execution_count": null,
   "id": "f8863e07",
   "metadata": {
    "ExecuteTime": {
     "end_time": "2022-12-03T13:46:27.145745Z",
     "start_time": "2022-12-03T13:46:27.132746Z"
    },
    "id": "f8863e07"
   },
   "outputs": [],
   "source": [
    "def print_df_details(df: pd.DataFrame):\n",
    "    print(\"\\nHead:\\n\", df.head())\n",
    "    print(\"\\nTail:\\n\", df.tail())\n",
    "    print('\\nInfo:')\n",
    "    df.info()  # This method prints by itself\n",
    "    print('\\nDescribe:\\n', df.describe(include='all'))  #, datetime_is_numeric=True)) - to suppress warnings   "
   ]
  },
  {
   "cell_type": "code",
   "execution_count": null,
   "id": "3eea0a21",
   "metadata": {
    "ExecuteTime": {
     "end_time": "2022-12-03T13:46:27.161745Z",
     "start_time": "2022-12-03T13:46:27.147748Z"
    },
    "id": "3eea0a21"
   },
   "outputs": [],
   "source": [
    "def load_pandas_file(file_path: str, verbose=True):\n",
    "    # Prepare\n",
    "    assert os.path.isfile(file_path), f\"Cannot find file: '{file_path}', cur folder: '{os. getcwd()}'\"    \n",
    "    print(\"Loading data from: \", file_path)\n",
    "        \n",
    "    # Do the load\n",
    "    start_time = time.time()\n",
    "    df = pd.read_csv(file_path)\n",
    "    print(f\"Success. Shape: {df.shape}, elapsed seconds: {time.time() - start_time:.2f}\")\n",
    "    \n",
    "    # Dump details if required\n",
    "    if verbose:\n",
    "        print_df_details(df)\n",
    "    return df"
   ]
  },
  {
   "cell_type": "code",
   "execution_count": null,
   "id": "406b6d4a",
   "metadata": {
    "ExecuteTime": {
     "end_time": "2022-12-03T13:46:27.177755Z",
     "start_time": "2022-12-03T13:46:27.162747Z"
    },
    "id": "406b6d4a"
   },
   "outputs": [],
   "source": [
    "def merge_dfs(df_list: list, verbose=True) -> pd.DataFrame:\n",
    "    if verbose:\n",
    "        for df in df_list:\n",
    "            print(df.shape, end=';')\n",
    "    res_df = pd.concat(df_list, ignore_index=True)\n",
    "    if verbose:\n",
    "        print(\"->\", res_df.shape)\n",
    "    return res_df"
   ]
  },
  {
   "cell_type": "code",
   "execution_count": null,
   "id": "7e0bc300",
   "metadata": {
    "ExecuteTime": {
     "end_time": "2022-12-03T13:46:27.193745Z",
     "start_time": "2022-12-03T13:46:27.181748Z"
    },
    "id": "7e0bc300"
   },
   "outputs": [],
   "source": [
    "def drop_old_dates_inplace(df: pd.DataFrame, drop_date_inclusive: str, verbose=True) -> pd.DataFrame:\n",
    "    assert isinstance(drop_date_inclusive, str)\n",
    "    old_shape = df.shape\n",
    "    df.drop(df[df['Date'] <= drop_date_inclusive].index, inplace = True)\n",
    "    print(f\"Old dates dropped. Shape before: {old_shape}, after: {df.shape}\")\n",
    "    if verbose:\n",
    "        print_df_details(df)"
   ]
  },
  {
   "cell_type": "code",
   "execution_count": null,
   "id": "d0611db8",
   "metadata": {
    "ExecuteTime": {
     "end_time": "2022-12-03T13:46:27.208745Z",
     "start_time": "2022-12-03T13:46:27.196748Z"
    },
    "id": "d0611db8"
   },
   "outputs": [],
   "source": [
    "def get_label(ch):\n",
    "  if ch > 0.5:\n",
    "    return 1\n",
    "  elif ch < -0.5:\n",
    "    return -1\n",
    "  else:\n",
    "    return 0\n",
    "\n",
    "\n",
    "def generate_labels_and_pcr_list(df: pd.DataFrame, strategy_str: str) -> list:\n",
    "    # price_change_ratio = pcr \n",
    "    if strategy_str == \"d1_C=d1_O=0.5%=2cls\":\n",
    "        assert (df['d1_O'] > 0.0).all()  # Prices must be > 0\n",
    "        assert (df['d1_C'] > 0.0).all()  # Prices must be > 0\n",
    "        rel_change_perc = (df['d1_C'] / df['d1_O'] - 1.0) * 100.0\n",
    "        # Convert from percentages to labels -1, 0, 1\n",
    "        res_series = rel_change_perc.apply(get_label)\n",
    "    else:\n",
    "        assert False, \"Unexpeced strategy_str\"\n",
    "    return res_series.to_list(), rel_change_perc.to_list()     "
   ]
  },
  {
   "cell_type": "code",
   "execution_count": null,
   "id": "15b3a159",
   "metadata": {
    "ExecuteTime": {
     "end_time": "2022-12-03T13:46:27.223752Z",
     "start_time": "2022-12-03T13:46:27.210746Z"
    },
    "id": "15b3a159"
   },
   "outputs": [],
   "source": [
    "def do_feature_selection(df: pd.DataFrame):\n",
    "    res_df = df[COL_FEATURES]\n",
    "    print(f\"Selected cols: {res_df.columns}\")\n",
    "    return res_df.copy()"
   ]
  },
  {
   "cell_type": "code",
   "execution_count": null,
   "id": "893d9ddd",
   "metadata": {
    "ExecuteTime": {
     "end_time": "2022-12-03T13:46:27.239748Z",
     "start_time": "2022-12-03T13:46:27.231752Z"
    },
    "id": "893d9ddd"
   },
   "outputs": [],
   "source": [
    "def do_label_transformation(df: pd.DataFrame):\n",
    "    temp_df = df.drop(df[df[COL_LABEL] == 0].index, inplace= False).copy()\n",
    "    temp_df[COL_LABEL].replace({-1:0}, inplace = True)\n",
    "    return temp_df"
   ]
  },
  {
   "cell_type": "code",
   "execution_count": null,
   "id": "73d63c7a",
   "metadata": {
    "ExecuteTime": {
     "end_time": "2022-12-03T13:46:27.255746Z",
     "start_time": "2022-12-03T13:46:27.242751Z"
    },
    "id": "73d63c7a"
   },
   "outputs": [],
   "source": [
    "def calc_real_profit_perc(y_pred, pcr_list) -> float:\n",
    "    return np.NaN  # TODO: This function is not correct, as it's necessary to aggregate predictions by date and ticker\n",
    "\n",
    "    profit_ratio = 1.0\n",
    "    assert len(y_pred) == len(pcr_list), f\"{len(y_pred)}, {len(pcr_list)}\"\n",
    "    for i, (pred, pcr) in enumerate(zip(y_pred, pcr_list)):\n",
    "        price_ratio = (pcr / 100.0 + 1.0)  # Convert from percents [-5% .. 5%] -> [-0.05 .. 0.05] -> [0.95 .. 1.05]\n",
    "        assert 0.0 < price_ratio < np.inf, f\"{i}, {price_ratio}\" \n",
    "        if pred == 1:\n",
    "            # Long\n",
    "            profit_ratio *= price_ratio\n",
    "        elif pred == 0:\n",
    "            # Short\n",
    "            profit_ratio /= price_ratio\n",
    "        else:\n",
    "            assert False, \"Unexpected label\"\n",
    "    return (profit_ratio - 1.0) * 100.0  # Profit in percents (0% - nothing changed)"
   ]
  },
  {
   "cell_type": "code",
   "execution_count": null,
   "id": "74ef9cbf",
   "metadata": {
    "ExecuteTime": {
     "end_time": "2022-12-03T13:46:27.271745Z",
     "start_time": "2022-12-03T13:46:27.257747Z"
    },
    "colab": {
     "base_uri": "https://localhost:8080/"
    },
    "executionInfo": {
     "elapsed": 42,
     "status": "ok",
     "timestamp": 1670940298014,
     "user": {
      "displayName": "AnT",
      "userId": "07342426211356883844"
     },
     "user_tz": -180
    },
    "id": "74ef9cbf",
    "outputId": "9d4ae97f-3869-422b-84bb-c68968c3d015"
   },
   "outputs": [
    {
     "name": "stdout",
     "output_type": "stream",
     "text": [
      "497451\n",
      "497451\n",
      "497451\n"
     ]
    }
   ],
   "source": [
    "def calc_hash_for_seq(values, hash_len=6):\n",
    "    assert isinstance(values, (list, np.ndarray, pd.Series))\n",
    "    h = hash(tuple(values))\n",
    "    return str(h)[-hash_len:]\n",
    "\n",
    "# Small unit tests\n",
    "print(calc_hash_for_seq([1, 2, 3]))\n",
    "print(calc_hash_for_seq(np.array([1, 2, 3])))\n",
    "print(calc_hash_for_seq(pd.Series([1, 2, 3])))"
   ]
  },
  {
   "cell_type": "code",
   "execution_count": null,
   "id": "hdZ-rWtdeMST",
   "metadata": {
    "id": "hdZ-rWtdeMST"
   },
   "outputs": [],
   "source": [
    "def make_label_distribution_equal(df: pd.DataFrame, random_state=42) -> pd.DataFrame:\n",
    "    \n",
    "    counts = df.label.value_counts()\n",
    "    assert len(counts == 2)  # We expect only labels 0 and 1\n",
    "\n",
    "    bigger_label = 0 if counts[0] > counts[1] else 1\n",
    "    diff = abs(counts[0] - counts[1])\n",
    "\n",
    "    res_df = df.drop(index=df[df.label == bigger_label].sample(n = diff, replace=False, random_state=random_state).index)\n",
    "    return res_df"
   ]
  },
  {
   "cell_type": "markdown",
   "id": "2b61a358",
   "metadata": {
    "id": "2b61a358"
   },
   "source": [
    "## Do prepare datasets"
   ]
  },
  {
   "cell_type": "code",
   "execution_count": null,
   "id": "535b39f7",
   "metadata": {
    "ExecuteTime": {
     "end_time": "2022-12-05T20:36:34.252622Z",
     "start_time": "2022-12-05T20:36:33.510333Z"
    },
    "id": "535b39f7"
   },
   "outputs": [],
   "source": [
    "#init_seeds(42)  # May be useful if torch DataLoader is used, etc.  TODO: think if required here"
   ]
  },
  {
   "cell_type": "code",
   "execution_count": null,
   "id": "2fcf62af",
   "metadata": {
    "ExecuteTime": {
     "end_time": "2022-12-03T13:46:40.247932Z",
     "start_time": "2022-12-03T13:46:27.273746Z"
    },
    "colab": {
     "base_uri": "https://localhost:8080/"
    },
    "executionInfo": {
     "elapsed": 12263,
     "status": "ok",
     "timestamp": 1670940310244,
     "user": {
      "displayName": "AnT",
      "userId": "07342426211356883844"
     },
     "user_tz": -180
    },
    "id": "2fcf62af",
    "outputId": "504eed91-ddd1-428f-886c-90e49a3ed9bd",
    "scrolled": true
   },
   "outputs": [
    {
     "name": "stdout",
     "output_type": "stream",
     "text": [
      "Loading data from:  /content/drive/MyDrive/_PR_ROOT/_2022/2022-11_NLP-Huawei_Final_project/stocktwits_finsentiment_analysis/notebooks/../data/interim/040_output__nb010_v1/AMZN_RmSW=0_RmRep=0_1y.csv.gz\n",
      "Success. Shape: (450379, 52), elapsed seconds: 4.93\n",
      "Old dates dropped. Shape before: (450379, 52), after: (100280, 52)\n",
      "Loading data from:  /content/drive/MyDrive/_PR_ROOT/_2022/2022-11_NLP-Huawei_Final_project/stocktwits_finsentiment_analysis/notebooks/../data/interim/040_output__nb010_v1/NFLX_RmSW=0_RmRep=0_1y.csv.gz\n",
      "Success. Shape: (666002, 52), elapsed seconds: 6.90\n",
      "Old dates dropped. Shape before: (666002, 52), after: (110002, 52)\n"
     ]
    }
   ],
   "source": [
    "# Load raw data, dropping old dates\n",
    "df_list = []\n",
    "for fname in FNAMES:\n",
    "    full_name = os.path.join(DIR_DATA_SRC, fname)\n",
    "    assert os.path.isfile(full_name), full_name\n",
    "    df_temp = load_pandas_file(full_name, verbose=False)\n",
    "    drop_old_dates_inplace(df_temp, DROP_RECORDS_BEFORE_DATE_INCLUSIVE, verbose=False)\n",
    "    df_list.append(df_temp)"
   ]
  },
  {
   "cell_type": "code",
   "execution_count": null,
   "id": "3bdf3696",
   "metadata": {
    "ExecuteTime": {
     "end_time": "2022-12-03T13:46:40.342932Z",
     "start_time": "2022-12-03T13:46:40.252933Z"
    },
    "colab": {
     "base_uri": "https://localhost:8080/"
    },
    "executionInfo": {
     "elapsed": 60,
     "status": "ok",
     "timestamp": 1670940310245,
     "user": {
      "displayName": "AnT",
      "userId": "07342426211356883844"
     },
     "user_tz": -180
    },
    "id": "3bdf3696",
    "outputId": "b31c20c5-83ad-4565-a116-d9e96514b12b"
   },
   "outputs": [
    {
     "name": "stdout",
     "output_type": "stream",
     "text": [
      "(100280, 52);(110002, 52);-> (210282, 52)\n"
     ]
    }
   ],
   "source": [
    "# Concat loaded parts to one dataframe\n",
    "df_raw = merge_dfs(df_list)"
   ]
  },
  {
   "cell_type": "code",
   "execution_count": null,
   "id": "e30f2c4e",
   "metadata": {
    "ExecuteTime": {
     "end_time": "2022-12-03T13:46:40.435937Z",
     "start_time": "2022-12-03T13:46:40.346933Z"
    },
    "colab": {
     "base_uri": "https://localhost:8080/"
    },
    "executionInfo": {
     "elapsed": 54,
     "status": "ok",
     "timestamp": 1670940310246,
     "user": {
      "displayName": "AnT",
      "userId": "07342426211356883844"
     },
     "user_tz": -180
    },
    "id": "e30f2c4e",
    "outputId": "896af9af-2145-415f-8a0e-47622e4248ad"
   },
   "outputs": [
    {
     "name": "stdout",
     "output_type": "stream",
     "text": [
      "Selected cols: Index(['symbol', 'message', 'datetime', 'user', 'message_id', 'Date'], dtype='object')\n"
     ]
    }
   ],
   "source": [
    "# Choose columns for final dataset\n",
    "df_final = do_feature_selection(df_raw)"
   ]
  },
  {
   "cell_type": "code",
   "execution_count": null,
   "id": "fa8e6928",
   "metadata": {
    "ExecuteTime": {
     "end_time": "2022-12-03T13:46:40.704035Z",
     "start_time": "2022-12-03T13:46:40.439933Z"
    },
    "id": "fa8e6928"
   },
   "outputs": [],
   "source": [
    "# Append the target column\n",
    "labels, pcr_list = generate_labels_and_pcr_list(df_raw, strategy_str=LABEL_GEN_STRATEGY)\n",
    "df_final[COL_LABEL] = labels\n",
    "df_final[COL_PCR] = pcr_list"
   ]
  },
  {
   "cell_type": "code",
   "execution_count": null,
   "id": "78bac67a",
   "metadata": {
    "ExecuteTime": {
     "end_time": "2022-12-03T13:46:41.078882Z",
     "start_time": "2022-12-03T13:46:40.708935Z"
    },
    "id": "78bac67a"
   },
   "outputs": [],
   "source": [
    "# Drop labels for neutral class\n",
    "df_final = do_label_transformation(df_final)"
   ]
  },
  {
   "cell_type": "code",
   "execution_count": null,
   "id": "34cb7725",
   "metadata": {
    "ExecuteTime": {
     "end_time": "2022-12-03T13:46:41.093887Z",
     "start_time": "2022-12-03T13:46:41.081882Z"
    },
    "id": "34cb7725"
   },
   "outputs": [],
   "source": [
    "# print_df_details(df_final)"
   ]
  },
  {
   "cell_type": "code",
   "execution_count": null,
   "id": "e3c496fc",
   "metadata": {
    "ExecuteTime": {
     "end_time": "2022-12-03T13:46:41.125885Z",
     "start_time": "2022-12-03T13:46:41.098883Z"
    },
    "colab": {
     "base_uri": "https://localhost:8080/"
    },
    "executionInfo": {
     "elapsed": 52,
     "status": "ok",
     "timestamp": 1670940310254,
     "user": {
      "displayName": "AnT",
      "userId": "07342426211356883844"
     },
     "user_tz": -180
    },
    "id": "e3c496fc",
    "outputId": "0dc922cb-b035-42a6-931d-a74ba8839e2e"
   },
   "outputs": [
    {
     "data": {
      "text/plain": [
       "0    64504\n",
       "1    56793\n",
       "Name: label, dtype: int64"
      ]
     },
     "execution_count": 37,
     "metadata": {},
     "output_type": "execute_result"
    }
   ],
   "source": [
    "df_final[COL_LABEL].value_counts()"
   ]
  },
  {
   "cell_type": "code",
   "execution_count": null,
   "id": "Miodtm2yXBnt",
   "metadata": {
    "colab": {
     "base_uri": "https://localhost:8080/"
    },
    "executionInfo": {
     "elapsed": 48,
     "status": "ok",
     "timestamp": 1670940310255,
     "user": {
      "displayName": "AnT",
      "userId": "07342426211356883844"
     },
     "user_tz": -180
    },
    "id": "Miodtm2yXBnt",
    "outputId": "3ed6752a-8b7d-4b66-b696-c42367e4e0de"
   },
   "outputs": [
    {
     "data": {
      "text/plain": [
       "0    56793\n",
       "1    56793\n",
       "Name: label, dtype: int64"
      ]
     },
     "execution_count": 38,
     "metadata": {},
     "output_type": "execute_result"
    }
   ],
   "source": [
    "# Making labels distribution equal\n",
    "df_final = make_label_distribution_equal(df_final)\n",
    "df_final[COL_LABEL].value_counts()"
   ]
  },
  {
   "cell_type": "code",
   "execution_count": null,
   "id": "10d862a2",
   "metadata": {
    "ExecuteTime": {
     "end_time": "2022-12-03T13:46:41.173888Z",
     "start_time": "2022-12-03T13:46:41.130886Z"
    },
    "colab": {
     "base_uri": "https://localhost:8080/",
     "height": 423
    },
    "executionInfo": {
     "elapsed": 713,
     "status": "ok",
     "timestamp": 1670940310925,
     "user": {
      "displayName": "AnT",
      "userId": "07342426211356883844"
     },
     "user_tz": -180
    },
    "id": "10d862a2",
    "outputId": "04b037bb-8ce5-4319-9a8b-7a2056ff225e"
   },
   "outputs": [
    {
     "data": {
      "text/html": [
       "\n",
       "  <div id=\"df-c1b162a8-d6a0-450f-b702-f5ecd8f2b209\">\n",
       "    <div class=\"colab-df-container\">\n",
       "      <div>\n",
       "<style scoped>\n",
       "    .dataframe tbody tr th:only-of-type {\n",
       "        vertical-align: middle;\n",
       "    }\n",
       "\n",
       "    .dataframe tbody tr th {\n",
       "        vertical-align: top;\n",
       "    }\n",
       "\n",
       "    .dataframe thead th {\n",
       "        text-align: right;\n",
       "    }\n",
       "</style>\n",
       "<table border=\"1\" class=\"dataframe\">\n",
       "  <thead>\n",
       "    <tr style=\"text-align: right;\">\n",
       "      <th></th>\n",
       "      <th>symbol</th>\n",
       "      <th>message</th>\n",
       "      <th>datetime</th>\n",
       "      <th>user</th>\n",
       "      <th>message_id</th>\n",
       "      <th>Date</th>\n",
       "      <th>label</th>\n",
       "      <th>price_change_ratio</th>\n",
       "    </tr>\n",
       "  </thead>\n",
       "  <tbody>\n",
       "    <tr>\n",
       "      <th>0</th>\n",
       "      <td>AMZN</td>\n",
       "      <td>amzn believe we see a msft reaction</td>\n",
       "      <td>2020-07-22 22:36:53+00:00</td>\n",
       "      <td>1138814</td>\n",
       "      <td>230085465</td>\n",
       "      <td>2020-07-22</td>\n",
       "      <td>0</td>\n",
       "      <td>-3.602092</td>\n",
       "    </tr>\n",
       "    <tr>\n",
       "      <th>1</th>\n",
       "      <td>AMZN</td>\n",
       "      <td>ba tsla amzn ge googl new ceo of boeing david ...</td>\n",
       "      <td>2020-07-22 22:36:44+00:00</td>\n",
       "      <td>3433309</td>\n",
       "      <td>230085430</td>\n",
       "      <td>2020-07-22</td>\n",
       "      <td>0</td>\n",
       "      <td>-3.602092</td>\n",
       "    </tr>\n",
       "    <tr>\n",
       "      <th>2</th>\n",
       "      <td>AMZN</td>\n",
       "      <td>amzn should be back to  3300 after earning mar...</td>\n",
       "      <td>2020-07-22 22:33:29+00:00</td>\n",
       "      <td>1791337</td>\n",
       "      <td>230084558</td>\n",
       "      <td>2020-07-22</td>\n",
       "      <td>0</td>\n",
       "      <td>-3.602092</td>\n",
       "    </tr>\n",
       "    <tr>\n",
       "      <th>3</th>\n",
       "      <td>AMZN</td>\n",
       "      <td>amzn aapl anti trust congressional hearings st...</td>\n",
       "      <td>2020-07-22 22:33:09+00:00</td>\n",
       "      <td>767238</td>\n",
       "      <td>230084470</td>\n",
       "      <td>2020-07-22</td>\n",
       "      <td>0</td>\n",
       "      <td>-3.602092</td>\n",
       "    </tr>\n",
       "    <tr>\n",
       "      <th>4</th>\n",
       "      <td>AMZN</td>\n",
       "      <td>tsla musk wants tsla to be quot slightly profi...</td>\n",
       "      <td>2020-07-22 22:29:24+00:00</td>\n",
       "      <td>909664</td>\n",
       "      <td>230083378</td>\n",
       "      <td>2020-07-22</td>\n",
       "      <td>0</td>\n",
       "      <td>-3.602092</td>\n",
       "    </tr>\n",
       "    <tr>\n",
       "      <th>...</th>\n",
       "      <td>...</td>\n",
       "      <td>...</td>\n",
       "      <td>...</td>\n",
       "      <td>...</td>\n",
       "      <td>...</td>\n",
       "      <td>...</td>\n",
       "      <td>...</td>\n",
       "      <td>...</td>\n",
       "    </tr>\n",
       "    <tr>\n",
       "      <th>210152</th>\n",
       "      <td>NFLX</td>\n",
       "      <td>nflx has one of the better altman z scores in ...</td>\n",
       "      <td>2019-07-22 01:03:58+00:00</td>\n",
       "      <td>47688</td>\n",
       "      <td>171262286</td>\n",
       "      <td>2019-07-22</td>\n",
       "      <td>0</td>\n",
       "      <td>-1.329309</td>\n",
       "    </tr>\n",
       "    <tr>\n",
       "      <th>210155</th>\n",
       "      <td>NFLX</td>\n",
       "      <td>just charted nflx gld st ne in the snm room gt...</td>\n",
       "      <td>2019-07-22 00:40:18+00:00</td>\n",
       "      <td>186026</td>\n",
       "      <td>171261315</td>\n",
       "      <td>2019-07-22</td>\n",
       "      <td>0</td>\n",
       "      <td>-1.329309</td>\n",
       "    </tr>\n",
       "    <tr>\n",
       "      <th>210156</th>\n",
       "      <td>NFLX</td>\n",
       "      <td>nflx pivot point  318  39 hourly interesting t...</td>\n",
       "      <td>2019-07-22 00:36:45+00:00</td>\n",
       "      <td>2121786</td>\n",
       "      <td>171261168</td>\n",
       "      <td>2019-07-22</td>\n",
       "      <td>0</td>\n",
       "      <td>-1.329309</td>\n",
       "    </tr>\n",
       "    <tr>\n",
       "      <th>210157</th>\n",
       "      <td>NFLX</td>\n",
       "      <td>spy fb aapl amzn nflx googl amzn is a beast so...</td>\n",
       "      <td>2019-07-22 00:28:08+00:00</td>\n",
       "      <td>1323307</td>\n",
       "      <td>171260827</td>\n",
       "      <td>2019-07-22</td>\n",
       "      <td>0</td>\n",
       "      <td>-1.329309</td>\n",
       "    </tr>\n",
       "    <tr>\n",
       "      <th>210158</th>\n",
       "      <td>NFLX</td>\n",
       "      <td>nflx tomorrow this will fly rocket</td>\n",
       "      <td>2019-07-22 00:05:51+00:00</td>\n",
       "      <td>1540915</td>\n",
       "      <td>171260022</td>\n",
       "      <td>2019-07-22</td>\n",
       "      <td>0</td>\n",
       "      <td>-1.329309</td>\n",
       "    </tr>\n",
       "  </tbody>\n",
       "</table>\n",
       "<p>113586 rows × 8 columns</p>\n",
       "</div>\n",
       "      <button class=\"colab-df-convert\" onclick=\"convertToInteractive('df-c1b162a8-d6a0-450f-b702-f5ecd8f2b209')\"\n",
       "              title=\"Convert this dataframe to an interactive table.\"\n",
       "              style=\"display:none;\">\n",
       "        \n",
       "  <svg xmlns=\"http://www.w3.org/2000/svg\" height=\"24px\"viewBox=\"0 0 24 24\"\n",
       "       width=\"24px\">\n",
       "    <path d=\"M0 0h24v24H0V0z\" fill=\"none\"/>\n",
       "    <path d=\"M18.56 5.44l.94 2.06.94-2.06 2.06-.94-2.06-.94-.94-2.06-.94 2.06-2.06.94zm-11 1L8.5 8.5l.94-2.06 2.06-.94-2.06-.94L8.5 2.5l-.94 2.06-2.06.94zm10 10l.94 2.06.94-2.06 2.06-.94-2.06-.94-.94-2.06-.94 2.06-2.06.94z\"/><path d=\"M17.41 7.96l-1.37-1.37c-.4-.4-.92-.59-1.43-.59-.52 0-1.04.2-1.43.59L10.3 9.45l-7.72 7.72c-.78.78-.78 2.05 0 2.83L4 21.41c.39.39.9.59 1.41.59.51 0 1.02-.2 1.41-.59l7.78-7.78 2.81-2.81c.8-.78.8-2.07 0-2.86zM5.41 20L4 18.59l7.72-7.72 1.47 1.35L5.41 20z\"/>\n",
       "  </svg>\n",
       "      </button>\n",
       "      \n",
       "  <style>\n",
       "    .colab-df-container {\n",
       "      display:flex;\n",
       "      flex-wrap:wrap;\n",
       "      gap: 12px;\n",
       "    }\n",
       "\n",
       "    .colab-df-convert {\n",
       "      background-color: #E8F0FE;\n",
       "      border: none;\n",
       "      border-radius: 50%;\n",
       "      cursor: pointer;\n",
       "      display: none;\n",
       "      fill: #1967D2;\n",
       "      height: 32px;\n",
       "      padding: 0 0 0 0;\n",
       "      width: 32px;\n",
       "    }\n",
       "\n",
       "    .colab-df-convert:hover {\n",
       "      background-color: #E2EBFA;\n",
       "      box-shadow: 0px 1px 2px rgba(60, 64, 67, 0.3), 0px 1px 3px 1px rgba(60, 64, 67, 0.15);\n",
       "      fill: #174EA6;\n",
       "    }\n",
       "\n",
       "    [theme=dark] .colab-df-convert {\n",
       "      background-color: #3B4455;\n",
       "      fill: #D2E3FC;\n",
       "    }\n",
       "\n",
       "    [theme=dark] .colab-df-convert:hover {\n",
       "      background-color: #434B5C;\n",
       "      box-shadow: 0px 1px 3px 1px rgba(0, 0, 0, 0.15);\n",
       "      filter: drop-shadow(0px 1px 2px rgba(0, 0, 0, 0.3));\n",
       "      fill: #FFFFFF;\n",
       "    }\n",
       "  </style>\n",
       "\n",
       "      <script>\n",
       "        const buttonEl =\n",
       "          document.querySelector('#df-c1b162a8-d6a0-450f-b702-f5ecd8f2b209 button.colab-df-convert');\n",
       "        buttonEl.style.display =\n",
       "          google.colab.kernel.accessAllowed ? 'block' : 'none';\n",
       "\n",
       "        async function convertToInteractive(key) {\n",
       "          const element = document.querySelector('#df-c1b162a8-d6a0-450f-b702-f5ecd8f2b209');\n",
       "          const dataTable =\n",
       "            await google.colab.kernel.invokeFunction('convertToInteractive',\n",
       "                                                     [key], {});\n",
       "          if (!dataTable) return;\n",
       "\n",
       "          const docLinkHtml = 'Like what you see? Visit the ' +\n",
       "            '<a target=\"_blank\" href=https://colab.research.google.com/notebooks/data_table.ipynb>data table notebook</a>'\n",
       "            + ' to learn more about interactive tables.';\n",
       "          element.innerHTML = '';\n",
       "          dataTable['output_type'] = 'display_data';\n",
       "          await google.colab.output.renderOutput(dataTable, element);\n",
       "          const docLink = document.createElement('div');\n",
       "          docLink.innerHTML = docLinkHtml;\n",
       "          element.appendChild(docLink);\n",
       "        }\n",
       "      </script>\n",
       "    </div>\n",
       "  </div>\n",
       "  "
      ],
      "text/plain": [
       "       symbol                                            message  \\\n",
       "0        AMZN                amzn believe we see a msft reaction   \n",
       "1        AMZN  ba tsla amzn ge googl new ceo of boeing david ...   \n",
       "2        AMZN  amzn should be back to  3300 after earning mar...   \n",
       "3        AMZN  amzn aapl anti trust congressional hearings st...   \n",
       "4        AMZN  tsla musk wants tsla to be quot slightly profi...   \n",
       "...       ...                                                ...   \n",
       "210152   NFLX  nflx has one of the better altman z scores in ...   \n",
       "210155   NFLX  just charted nflx gld st ne in the snm room gt...   \n",
       "210156   NFLX  nflx pivot point  318  39 hourly interesting t...   \n",
       "210157   NFLX  spy fb aapl amzn nflx googl amzn is a beast so...   \n",
       "210158   NFLX                 nflx tomorrow this will fly rocket   \n",
       "\n",
       "                         datetime     user  message_id        Date  label  \\\n",
       "0       2020-07-22 22:36:53+00:00  1138814   230085465  2020-07-22      0   \n",
       "1       2020-07-22 22:36:44+00:00  3433309   230085430  2020-07-22      0   \n",
       "2       2020-07-22 22:33:29+00:00  1791337   230084558  2020-07-22      0   \n",
       "3       2020-07-22 22:33:09+00:00   767238   230084470  2020-07-22      0   \n",
       "4       2020-07-22 22:29:24+00:00   909664   230083378  2020-07-22      0   \n",
       "...                           ...      ...         ...         ...    ...   \n",
       "210152  2019-07-22 01:03:58+00:00    47688   171262286  2019-07-22      0   \n",
       "210155  2019-07-22 00:40:18+00:00   186026   171261315  2019-07-22      0   \n",
       "210156  2019-07-22 00:36:45+00:00  2121786   171261168  2019-07-22      0   \n",
       "210157  2019-07-22 00:28:08+00:00  1323307   171260827  2019-07-22      0   \n",
       "210158  2019-07-22 00:05:51+00:00  1540915   171260022  2019-07-22      0   \n",
       "\n",
       "        price_change_ratio  \n",
       "0                -3.602092  \n",
       "1                -3.602092  \n",
       "2                -3.602092  \n",
       "3                -3.602092  \n",
       "4                -3.602092  \n",
       "...                    ...  \n",
       "210152           -1.329309  \n",
       "210155           -1.329309  \n",
       "210156           -1.329309  \n",
       "210157           -1.329309  \n",
       "210158           -1.329309  \n",
       "\n",
       "[113586 rows x 8 columns]"
      ]
     },
     "execution_count": 39,
     "metadata": {},
     "output_type": "execute_result"
    }
   ],
   "source": [
    "df_final"
   ]
  },
  {
   "cell_type": "markdown",
   "id": "93cad7c0",
   "metadata": {
    "id": "93cad7c0"
   },
   "source": [
    "# ===== Part 2: Model execution and scoring ====="
   ]
  },
  {
   "cell_type": "markdown",
   "id": "292b8bad",
   "metadata": {
    "id": "292b8bad"
   },
   "source": [
    "## Imports (part 2)"
   ]
  },
  {
   "cell_type": "code",
   "execution_count": null,
   "id": "6f4ee10b",
   "metadata": {
    "ExecuteTime": {
     "end_time": "2022-12-03T13:46:41.188882Z",
     "start_time": "2022-12-03T13:46:41.177884Z"
    },
    "id": "6f4ee10b"
   },
   "outputs": [],
   "source": [
    "import pickle\n",
    "from typing import Optional\n",
    "\n",
    "# Baseline-related imports\n",
    "from sklearn.dummy import DummyClassifier\n",
    "from sklearn.metrics import classification_report, f1_score, accuracy_score\n",
    "from sklearn.metrics import confusion_matrix"
   ]
  },
  {
   "cell_type": "markdown",
   "id": "8e135ce1",
   "metadata": {
    "id": "8e135ce1"
   },
   "source": [
    "## Defs (part 2)"
   ]
  },
  {
   "cell_type": "code",
   "execution_count": null,
   "id": "67df3605",
   "metadata": {
    "ExecuteTime": {
     "end_time": "2022-12-03T13:46:41.204881Z",
     "start_time": "2022-12-03T13:46:41.191884Z"
    },
    "id": "67df3605"
   },
   "outputs": [],
   "source": [
    "def train_model_and_get_predictions__sklearn_classifier(model_tag: str, \n",
    "    X_train: pd.DataFrame, y_train: pd.Series, X_test: pd.Series, seed: int) -> pd.Series:\n",
    "\n",
    "    # Initial checks\n",
    "    assert COL_PCR not in X_train.columns  # To avoid data leaks\n",
    "    \n",
    "    # Create the model with specified seed\n",
    "    if model_tag == \"dummy__most_frequent\":\n",
    "        model = DummyClassifier(strategy=\"most_frequent\", random_state=seed)\n",
    "    elif model_tag == \"dummy__uniform\":\n",
    "        model = DummyClassifier(strategy=\"uniform\", random_state=seed)\n",
    "    else:\n",
    "        assert False, f\"Unexpected model tag: {model_tag}\"\n",
    "    \n",
    "    # Train the model    \n",
    "    model.fit(X_train, y_train)\n",
    "    \n",
    "    # Get predictions\n",
    "    y_pred = model.predict(X_test)\n",
    "    \n",
    "    return y_pred    "
   ]
  },
  {
   "cell_type": "code",
   "execution_count": null,
   "id": "9U-oABvcbRjc",
   "metadata": {
    "id": "9U-oABvcbRjc"
   },
   "outputs": [],
   "source": [
    "from sklearn.feature_extraction.text import TfidfVectorizer\n",
    "from sklearn.naive_bayes import MultinomialNB, GaussianNB\n",
    "\n",
    "def train_model_and_get_predictions__NB_classifier(model_tag: str, \n",
    "    X_train: pd.DataFrame, y_train: pd.Series, X_test: pd.Series, seed: int, out_model_file: Optional[str]=None) -> pd.Series:\n",
    "\n",
    "    # Initial checks\n",
    "    assert COL_PCR not in X_train.columns  # To avoid data leaks\n",
    "    \n",
    "    # Create the vectorizer and model with specified params\n",
    "    if model_tag == \"NaiveBayes_words_ng1-3_alhpa0.1\":\n",
    "        tf_idf = TfidfVectorizer(use_idf=True, ngram_range=(1,3), analyzer='word')\n",
    "        model = MultinomialNB(alpha=0.1)\n",
    "    elif model_tag == \"NaiveBayes_words_ng2-2_alhpa0.1\":\n",
    "        tf_idf = TfidfVectorizer(use_idf=True, ngram_range=(2,2), analyzer='word')\n",
    "        model = MultinomialNB(alpha=0.1)        \n",
    "    else:\n",
    "        assert False, f\"Unexpected model tag: {model_tag}\"\n",
    "    \n",
    "    # Prepare tf-idf features (!huge sparse matrix)\n",
    "    train_features = tf_idf.fit_transform(X_train.message)\n",
    "    test_features = tf_idf.transform(X_test.message)\n",
    "\n",
    "    # Train the model    \n",
    "    model.fit(train_features, y_train)\n",
    "\n",
    "    # Save the model if required (will be overwritten if the file exists)\n",
    "    if out_model_file is not None:\n",
    "        pickle.dump(model, open(f\"{out_model_file}_NB.pkl\", 'wb'))\n",
    "        pickle.dump(tf_idf, open(f\"{out_model_file}_TFIDF.pkl\", 'wb'))\n",
    "        print(\"Model and tf-idf saved to output files.\")\n",
    "    \n",
    "    # Get predictions\n",
    "    y_pred = model.predict(test_features)\n",
    "    \n",
    "    return y_pred   "
   ]
  },
  {
   "cell_type": "code",
   "execution_count": null,
   "id": "3fd952f3",
   "metadata": {
    "colab": {
     "base_uri": "https://localhost:8080/"
    },
    "executionInfo": {
     "elapsed": 11924,
     "status": "ok",
     "timestamp": 1670940322839,
     "user": {
      "displayName": "AnT",
      "userId": "07342426211356883844"
     },
     "user_tz": -180
    },
    "id": "3fd952f3",
    "outputId": "200325e4-82bb-4fec-f830-e9cfc153dc98"
   },
   "outputs": [
    {
     "name": "stdout",
     "output_type": "stream",
     "text": [
      "\u001b[K     |████████████████████████████████| 76.6 MB 1.2 MB/s \n",
      "\u001b[?25h"
     ]
    }
   ],
   "source": [
    "!pip install catboost --quiet\n",
    "\n",
    "from catboost import CatBoostClassifier\n",
    "\n",
    "def train_model_and_get_predictions__catboost(model_tag: str, \n",
    "    X_train: pd.DataFrame, y_train: pd.Series, X_test: pd.Series, seed: int) -> pd.Series:\n",
    "\n",
    "    # Initial checks\n",
    "    assert COL_PCR not in X_train.columns  # To avoid data leaks\n",
    "    \n",
    "    model = CatBoostClassifier(\n",
    "                                n_estimators=300,\n",
    "                                max_depth = 8,\n",
    "                                task_type = 'GPU',\n",
    "                                verbose = 0\n",
    "                                )\n",
    "    \n",
    "    # Train the model    \n",
    "    model.fit(X_train.loc[:,['message']], y_train, text_features=['message'])\n",
    "    \n",
    "    # Get predictions\n",
    "    y_pred = model.predict(X_test.loc[:,['message']])\n",
    "    \n",
    "    return y_pred   "
   ]
  },
  {
   "cell_type": "code",
   "execution_count": null,
   "id": "d16cf902",
   "metadata": {
    "colab": {
     "base_uri": "https://localhost:8080/"
    },
    "executionInfo": {
     "elapsed": 51104,
     "status": "ok",
     "timestamp": 1670940373932,
     "user": {
      "displayName": "AnT",
      "userId": "07342426211356883844"
     },
     "user_tz": -180
    },
    "id": "d16cf902",
    "outputId": "df258db9-6bfa-4e1d-ee7d-5de27113c701"
   },
   "outputs": [
    {
     "name": "stdout",
     "output_type": "stream",
     "text": [
      "\u001b[K     |████████████████████████████████| 1.9 MB 29.2 MB/s \n",
      "\u001b[K     |████████████████████████████████| 168 kB 63.8 MB/s \n",
      "\u001b[K     |████████████████████████████████| 182 kB 56.0 MB/s \n",
      "\u001b[K     |████████████████████████████████| 62 kB 1.3 MB/s \n",
      "\u001b[K     |████████████████████████████████| 168 kB 73.0 MB/s \n",
      "\u001b[K     |████████████████████████████████| 166 kB 70.6 MB/s \n",
      "\u001b[K     |████████████████████████████████| 166 kB 58.9 MB/s \n",
      "\u001b[K     |████████████████████████████████| 162 kB 71.4 MB/s \n",
      "\u001b[K     |████████████████████████████████| 162 kB 75.1 MB/s \n",
      "\u001b[K     |████████████████████████████████| 158 kB 76.0 MB/s \n",
      "\u001b[K     |████████████████████████████████| 157 kB 68.6 MB/s \n",
      "\u001b[K     |████████████████████████████████| 157 kB 72.0 MB/s \n",
      "\u001b[K     |████████████████████████████████| 157 kB 69.4 MB/s \n",
      "\u001b[K     |████████████████████████████████| 157 kB 58.9 MB/s \n",
      "\u001b[K     |████████████████████████████████| 157 kB 75.9 MB/s \n",
      "\u001b[K     |████████████████████████████████| 157 kB 76.4 MB/s \n",
      "\u001b[K     |████████████████████████████████| 157 kB 77.4 MB/s \n",
      "\u001b[K     |████████████████████████████████| 156 kB 64.5 MB/s \n",
      "\u001b[?25h  Building wheel for pathtools (setup.py) ... \u001b[?25l\u001b[?25hdone\n",
      "\u001b[K     |████████████████████████████████| 250 kB 6.2 MB/s \n",
      "\u001b[K     |████████████████████████████████| 7.6 MB 63.1 MB/s \n",
      "\u001b[K     |████████████████████████████████| 1.3 MB 61.1 MB/s \n",
      "\u001b[K     |████████████████████████████████| 9.2 MB 54.6 MB/s \n",
      "\u001b[K     |████████████████████████████████| 5.8 MB 59.4 MB/s \n",
      "\u001b[K     |████████████████████████████████| 451 kB 61.3 MB/s \n",
      "\u001b[K     |████████████████████████████████| 43 kB 2.0 MB/s \n",
      "\u001b[K     |████████████████████████████████| 182 kB 71.0 MB/s \n",
      "\u001b[K     |████████████████████████████████| 132 kB 77.3 MB/s \n",
      "\u001b[K     |████████████████████████████████| 212 kB 10.7 MB/s \n",
      "\u001b[K     |████████████████████████████████| 127 kB 70.9 MB/s \n",
      "\u001b[K     |████████████████████████████████| 164 kB 72.2 MB/s \n",
      "\u001b[K     |████████████████████████████████| 4.7 MB 59.1 MB/s \n",
      "\u001b[K     |████████████████████████████████| 78 kB 8.5 MB/s \n",
      "\u001b[K     |████████████████████████████████| 237 kB 76.3 MB/s \n",
      "\u001b[K     |████████████████████████████████| 51 kB 7.5 MB/s \n",
      "\u001b[?25h  Building wheel for seqeval (setup.py) ... \u001b[?25l\u001b[?25hdone\n",
      "  Building wheel for validators (setup.py) ... \u001b[?25l\u001b[?25hdone\n"
     ]
    }
   ],
   "source": [
    "!pip install wandb --quiet\n",
    "!pip install simpletransformers --quiet\n",
    "\n",
    "import torch\n",
    "from simpletransformers.classification import ClassificationModel, ClassificationArgs\n",
    "\n",
    "def train_model_and_get_predictions__transformer(model_tag: str, \n",
    "    X_train: pd.DataFrame, y_train: pd.Series, X_test: pd.Series, seed: int) -> pd.Series:\n",
    "\n",
    "    # Initial checks\n",
    "    assert COL_PCR not in X_train.columns  # To avoid data leaks\n",
    "    \n",
    "    is_cuda = True if torch.cuda.is_available() else False\n",
    "\n",
    "    model_args = ClassificationArgs()\n",
    "    model_args.num_train_epochs = 2\n",
    "    model_args.regression = False\n",
    "    model_args.use_multiprocessing=is_cuda\n",
    "    model_args.use_multiprocessing_for_evaluation=is_cuda\n",
    "    model_args.overwrite_output_dir=True\n",
    "    model_args.train_batch_size = 128\n",
    "\n",
    "    model = ClassificationModel(\n",
    "                                \"roberta\",\n",
    "                                \"distilroberta-base\",\n",
    "                                num_labels=2,\n",
    "                                use_cuda=is_cuda,\n",
    "                                args=model_args\n",
    "                                )\n",
    "    \n",
    "    # Train the model    \n",
    "    tmp_df = pd.concat([X_train['message'], y_train], axis=1)\n",
    "    tmp_df.columns = [\"text\", \"labels\"]\n",
    "    model.train_model(tmp_df)\n",
    "    \n",
    "    # Get predictions\n",
    "    y_pred, _ = model.predict(list(X_test['message']))\n",
    "    \n",
    "    return y_pred   "
   ]
  },
  {
   "cell_type": "markdown",
   "id": "aWJVHx0qbkgR",
   "metadata": {
    "id": "aWJVHx0qbkgR"
   },
   "source": [
    "## Main function (cycle for several seeds)"
   ]
  },
  {
   "cell_type": "code",
   "execution_count": null,
   "id": "49d8f97d",
   "metadata": {
    "ExecuteTime": {
     "end_time": "2022-12-03T13:46:41.250883Z",
     "start_time": "2022-12-03T13:46:41.223892Z"
    },
    "id": "49d8f97d"
   },
   "outputs": [],
   "source": [
    "# Launch split-train-predict-metrics cycle for several seeds\n",
    "def get_model_score_distribution(model_tag: str, df: pd.DataFrame, launch_cnt: int = 5, verbose=True):\n",
    "    result = []\n",
    "    print(\"Legend: seed; X_train shape; X_test_shape; y_train shape,hash,sum; y_test shape,hash,sum\")\n",
    "    for seed in range(42, 42 + launch_cnt):\n",
    "        X_train, X_test, y_train, y_test = train_test_split(\n",
    "            df[COL_FEATURES + [COL_PCR]], df[COL_LABEL],\n",
    "            # stratify=df[COL_LABEL], # Note: stratification leads to the same test set (though shuffled)\n",
    "            shuffle=True,\n",
    "            random_state = seed, \n",
    "            test_size = TEST_SIZE\n",
    "        )\n",
    "        # Note: equal hash means binary equality, equal sum means the same rows but shuffled\n",
    "        print(f\"After split: {seed}, {X_train.shape}; {X_test.shape}; {y_train.shape},{calc_hash_for_seq(y_train)},{sum(y_train)};\"\n",
    "              + f\" {y_test.shape},{calc_hash_for_seq(y_test)},{sum(y_test)}\")\n",
    "\n",
    "        # Separate price_change_ratio from the data\n",
    "        pcr_train = X_train[COL_PCR]; X_train.drop(COL_PCR, axis=1, inplace=True)\n",
    "        pcr_test = X_test[COL_PCR]; X_test.drop(COL_PCR, axis=1, inplace=True)\n",
    "\n",
    "        # Launch model-specific method\n",
    "        y_pred = None\n",
    "        if model_tag.startswith('dummy_'):\n",
    "            y_pred = train_model_and_get_predictions__sklearn_classifier(model_tag, X_train, y_train, X_test, seed)\n",
    "        elif model_tag.startswith('NaiveBayes_'):\n",
    "            out_model_path = f\"naive_bayes_model__seed{seed}\"\n",
    "            y_pred = train_model_and_get_predictions__NB_classifier(model_tag, X_train, y_train, X_test, seed, out_model_path)\n",
    "        elif model_tag =='catboost':\n",
    "            y_pred = train_model_and_get_predictions__catboost(model_tag, X_train, y_train, X_test, seed)\n",
    "        elif model_tag =='transformer':\n",
    "            y_pred = train_model_and_get_predictions__transformer(model_tag, X_train, y_train, X_test, seed)\n",
    "        else:\n",
    "            assert False, f\"Unexpected model tag: {model_tag}\"\n",
    "\n",
    "        # Calc score\n",
    "        score1 = accuracy_score(y_test, y_pred)\n",
    "        #score2 = calc_real_profit_perc(y_pred, pcr_test)\n",
    "        #score3 = calc_real_profit_perc(y_train[:100], pcr_train[:100])\n",
    "        #result.append(f\"{score1:.5f}, {score2:.2f}%, {score3:.2f}%\")\n",
    "        result.append(score1)\n",
    "            \n",
    "        if verbose:\n",
    "            print(confusion_matrix(y_test, y_pred))\n",
    "            print(classification_report(y_test, y_pred, digits=3))\n",
    "                    \n",
    "    return result"
   ]
  },
  {
   "cell_type": "markdown",
   "id": "801c663a",
   "metadata": {
    "id": "801c663a"
   },
   "source": [
    "## Launch the model training/estimation"
   ]
  },
  {
   "cell_type": "code",
   "execution_count": null,
   "id": "fd6fce07",
   "metadata": {
    "ExecuteTime": {
     "end_time": "2022-12-03T13:46:41.548926Z",
     "start_time": "2022-12-03T13:46:41.253882Z"
    },
    "colab": {
     "base_uri": "https://localhost:8080/"
    },
    "executionInfo": {
     "elapsed": 20,
     "status": "ok",
     "timestamp": 1670940373936,
     "user": {
      "displayName": "AnT",
      "userId": "07342426211356883844"
     },
     "user_tz": -180
    },
    "id": "fd6fce07",
    "outputId": "0ca86837-d95c-4245-d5d8-25dfc5b6a8d1",
    "scrolled": false
   },
   "outputs": [
    {
     "name": "stdout",
     "output_type": "stream",
     "text": [
      "Legend: seed; X_train shape; X_test_shape; y_train shape,hash,sum; y_test shape,hash,sum\n",
      "After split: 42, (96548, 7); (17038, 7); (96548,),077111,48332; (17038,),802379,8461\n",
      "After split: 43, (96548, 7); (17038, 7); (96548,),325290,48367; (17038,),784870,8426\n",
      "After split: 44, (96548, 7); (17038, 7); (96548,),158103,48299; (17038,),603758,8494\n",
      "After split: 45, (96548, 7); (17038, 7); (96548,),225964,48292; (17038,),863571,8501\n",
      "After split: 46, (96548, 7); (17038, 7); (96548,),678696,48321; (17038,),537076,8472\n",
      "Sorted results (accuracy): [0.4945416128653598, 0.4965958445826975, 0.49724146026528937, 0.49853269163047303, 0.4989435379739406]\n",
      "Mean accuracy: 0.497 +- 0.002\n"
     ]
    }
   ],
   "source": [
    "model_tag = \"dummy__most_frequent\"\n",
    "results = get_model_score_distribution(model_tag, df_final, verbose=False)\n",
    "print(\"Sorted results (accuracy):\", sorted(results))\n",
    "print(f\"Mean accuracy: {np.mean(results):.3f} +- {np.std(results):.3f}\")"
   ]
  },
  {
   "cell_type": "code",
   "execution_count": null,
   "id": "95e48423",
   "metadata": {
    "ExecuteTime": {
     "end_time": "2022-12-03T13:46:41.832065Z",
     "start_time": "2022-12-03T13:46:41.551883Z"
    },
    "colab": {
     "base_uri": "https://localhost:8080/",
     "height": 227
    },
    "executionInfo": {
     "elapsed": 8,
     "status": "error",
     "timestamp": 1670944864654,
     "user": {
      "displayName": "AnT",
      "userId": "07342426211356883844"
     },
     "user_tz": -180
    },
    "id": "95e48423",
    "outputId": "54257c80-ac9d-490f-b22d-fa03697f3296"
   },
   "outputs": [],
   "source": [
    "model_tag = \"dummy__uniform\"\n",
    "results = get_model_score_distribution(model_tag, df_final, launch_cnt = 10, verbose=False)\n",
    "print(\"Sorted results (accuracy):\", sorted(results))\n",
    "print(f\"Mean accuracy: {np.mean(results):.3f} +- {np.std(results):.3f}\")"
   ]
  },
  {
   "cell_type": "code",
   "execution_count": null,
   "id": "hP3L2Vd7b9U1",
   "metadata": {
    "colab": {
     "base_uri": "https://localhost:8080/",
     "height": 172
    },
    "executionInfo": {
     "elapsed": 480,
     "status": "error",
     "timestamp": 1670940375534,
     "user": {
      "displayName": "AnT",
      "userId": "07342426211356883844"
     },
     "user_tz": -180
    },
    "id": "hP3L2Vd7b9U1",
    "outputId": "1dd93ad8-5331-48af-8970-81be8034f5dd"
   },
   "outputs": [],
   "source": [
    "assert False  # All models below are already saved to files"
   ]
  },
  {
   "cell_type": "markdown",
   "id": "00265a88",
   "metadata": {},
   "source": [
    "# Train and save individual models"
   ]
  },
  {
   "cell_type": "code",
   "execution_count": null,
   "id": "cD-DRfkfb6j-",
   "metadata": {
    "id": "cD-DRfkfb6j-"
   },
   "outputs": [],
   "source": [
    "model_tag = \"NaiveBayes_words_ng1-3_alhpa0.1\"  # Mean accuracy: 0.568 +- 0.002\n",
    "#model_tag = \"NaiveBayes_words_ng2-2_alhpa0.1\"  # Mean accuracy: 0.559 +- 0.002\n",
    "results = get_model_score_distribution(model_tag, df_final, launch_cnt = 2, verbose=False)\n",
    "print(\"Sorted results (accuracy):\", sorted(results))\n",
    "print(f\"Mean accuracy: {np.mean(results):.3f} +- {np.std(results):.3f}\")"
   ]
  },
  {
   "cell_type": "code",
   "execution_count": null,
   "id": "WsQcEtiVlP0W",
   "metadata": {
    "id": "WsQcEtiVlP0W"
   },
   "outputs": [],
   "source": [
    "! cp /content/naive_bayes_model__seed42_*.pkl $PATH_MAIN_DIR/../models/\n",
    "! cp /content/naive_bayes_model__seed43_*.pkl $PATH_MAIN_DIR/../models/"
   ]
  },
  {
   "cell_type": "code",
   "execution_count": null,
   "id": "3717bb87",
   "metadata": {
    "id": "3717bb87"
   },
   "outputs": [],
   "source": [
    "model_tag = \"catboost\"\n",
    "results = get_model_score_distribution(model_tag, df_final, launch_cnt = 5, verbose=False)\n",
    "print(\"Sorted results (accuracy):\", sorted(results))\n",
    "print(f\"Mean accuracy: {np.mean(results):.3f} +- {np.std(results):.3f}\")"
   ]
  },
  {
   "cell_type": "code",
   "execution_count": null,
   "id": "ebf0eb0f",
   "metadata": {
    "id": "ebf0eb0f"
   },
   "outputs": [],
   "source": [
    "model_tag = \"transformer\"\n",
    "results = get_model_score_distribution(model_tag, df_final, launch_cnt = 5, verbose=False)\n",
    "print(\"Sorted results (accuracy):\", sorted(results))\n",
    "print(f\"Mean accuracy: {np.mean(results):.3f} +- {np.std(results):.3f}\")"
   ]
  },
  {
   "cell_type": "markdown",
   "id": "HP75AXvQl-CW",
   "metadata": {
    "id": "HP75AXvQl-CW"
   },
   "source": [
    "# Model blending"
   ]
  },
  {
   "cell_type": "markdown",
   "id": "9cd917f1",
   "metadata": {},
   "source": [
    "## Make test set for specific seed"
   ]
  },
  {
   "cell_type": "code",
   "execution_count": null,
   "id": "ydZzEr9smKU_",
   "metadata": {
    "colab": {
     "base_uri": "https://localhost:8080/"
    },
    "executionInfo": {
     "elapsed": 416,
     "status": "ok",
     "timestamp": 1670940406139,
     "user": {
      "displayName": "AnT",
      "userId": "07342426211356883844"
     },
     "user_tz": -180
    },
    "id": "ydZzEr9smKU_",
    "outputId": "c2119ad3-acd7-42ae-d300-dd452580f6d9"
   },
   "outputs": [
    {
     "name": "stdout",
     "output_type": "stream",
     "text": [
      "Legend: seed; X_test_shape; hash,sum; y_test shape,hash,sum\n",
      "After split: 42 (17038, 7);  (17038,),802379,8461\n"
     ]
    }
   ],
   "source": [
    "BLEND_SEED = 42\n",
    "print(\"Legend: seed; X_test_shape; hash,sum; y_test shape,hash,sum\")\n",
    "\n",
    "_, X_test, _, y_test = train_test_split(\n",
    "    df_final[COL_FEATURES + [COL_PCR]], df_final[COL_LABEL],\n",
    "    # stratify=df[COL_LABEL], # Note: stratification leads to the same test set (though shuffled)\n",
    "    shuffle=True,\n",
    "    random_state = BLEND_SEED, \n",
    "    test_size = TEST_SIZE\n",
    ")\n",
    "# Note: equal hash means binary equality, equal sum means the same rows but shuffled\n",
    "print(f\"After split: {BLEND_SEED} {X_test.shape}; \"\n",
    "      + f\" {y_test.shape},{calc_hash_for_seq(y_test)},{sum(y_test)}\")"
   ]
  },
  {
   "cell_type": "markdown",
   "id": "035ab541",
   "metadata": {},
   "source": [
    "## Load the models (NB, CB, TR)"
   ]
  },
  {
   "cell_type": "code",
   "execution_count": null,
   "id": "xn92wM-umAgN",
   "metadata": {
    "id": "xn92wM-umAgN"
   },
   "outputs": [],
   "source": [
    "# Load NB model\n",
    "! cp $PATH_MAIN_DIR/../models/naive_bayes_model__seed42_*.pkl /content/ "
   ]
  },
  {
   "cell_type": "code",
   "execution_count": null,
   "id": "xW9U8e5MntDT",
   "metadata": {
    "id": "xW9U8e5MntDT"
   },
   "outputs": [],
   "source": [
    "model_nb = pickle.load(open('naive_bayes_model__seed42_NB.pkl', 'rb'))\n",
    "model_tfidf = pickle.load(open('naive_bayes_model__seed42_TFIDF.pkl', 'rb'))"
   ]
  },
  {
   "cell_type": "code",
   "execution_count": null,
   "id": "APIncNLlmDnb",
   "metadata": {
    "id": "APIncNLlmDnb"
   },
   "outputs": [],
   "source": [
    "features = model_tfidf.transform(X_test.message)\n",
    "score_nb = model_nb.score(features, y_test)\n",
    "assert np.isclose(score_nb, 0.572, atol=0.001)"
   ]
  },
  {
   "cell_type": "code",
   "execution_count": null,
   "id": "kaAYKLjcn3SZ",
   "metadata": {
    "colab": {
     "base_uri": "https://localhost:8080/"
    },
    "executionInfo": {
     "elapsed": 6,
     "status": "ok",
     "timestamp": 1670940433256,
     "user": {
      "displayName": "AnT",
      "userId": "07342426211356883844"
     },
     "user_tz": -180
    },
    "id": "kaAYKLjcn3SZ",
    "outputId": "57b37433-8a79-46f9-82ea-cfa5af02833e"
   },
   "outputs": [
    {
     "data": {
      "text/plain": [
       "array([0.0419392 , 0.3036071 , 0.51478722, ..., 0.66667132, 0.31633421,\n",
       "       0.76179808])"
      ]
     },
     "execution_count": 53,
     "metadata": {},
     "output_type": "execute_result"
    }
   ],
   "source": [
    "# Get probabilities\n",
    "probs_nb = model_nb.predict_proba(features)[:, 1]\n",
    "probs_nb"
   ]
  },
  {
   "cell_type": "code",
   "execution_count": null,
   "id": "CnpBwHxzq1cU",
   "metadata": {
    "id": "CnpBwHxzq1cU"
   },
   "outputs": [],
   "source": [
    "# Load CB model\n",
    "! cp $PATH_MAIN_DIR/../models/catboost_model_0559.cbm /content/ "
   ]
  },
  {
   "cell_type": "code",
   "execution_count": null,
   "id": "QNG3SVZhrOpM",
   "metadata": {
    "colab": {
     "base_uri": "https://localhost:8080/"
    },
    "executionInfo": {
     "elapsed": 6,
     "status": "ok",
     "timestamp": 1670940441639,
     "user": {
      "displayName": "AnT",
      "userId": "07342426211356883844"
     },
     "user_tz": -180
    },
    "id": "QNG3SVZhrOpM",
    "outputId": "74485650-3229-4481-a5a1-73b32074198d"
   },
   "outputs": [
    {
     "data": {
      "text/plain": [
       "<catboost.core.CatBoostClassifier at 0x7eff48177940>"
      ]
     },
     "execution_count": 55,
     "metadata": {},
     "output_type": "execute_result"
    }
   ],
   "source": [
    "from catboost import CatBoostClassifier\n",
    "model_cb = CatBoostClassifier()\n",
    "model_cb.load_model(\"catboost_model_0559.cbm\")"
   ]
  },
  {
   "cell_type": "code",
   "execution_count": null,
   "id": "1FrUgEZTrdkf",
   "metadata": {
    "id": "1FrUgEZTrdkf"
   },
   "outputs": [],
   "source": [
    "score_cb = model_cb.score(X_test.loc[:,['message']], y_test)\n",
    "assert np.isclose(score_cb, 0.559, atol=0.001)"
   ]
  },
  {
   "cell_type": "code",
   "execution_count": null,
   "id": "OFkccdrvr3hh",
   "metadata": {
    "colab": {
     "base_uri": "https://localhost:8080/"
    },
    "executionInfo": {
     "elapsed": 4,
     "status": "ok",
     "timestamp": 1670940449056,
     "user": {
      "displayName": "AnT",
      "userId": "07342426211356883844"
     },
     "user_tz": -180
    },
    "id": "OFkccdrvr3hh",
    "outputId": "ec91dfb1-0d7c-449e-c48d-e3cb2594a380"
   },
   "outputs": [
    {
     "data": {
      "text/plain": [
       "array([0.50181991, 0.45940911, 0.49781323, ..., 0.3711765 , 0.45208126,\n",
       "       0.48286085])"
      ]
     },
     "execution_count": 57,
     "metadata": {},
     "output_type": "execute_result"
    }
   ],
   "source": [
    "# Get probabilities\n",
    "probs_cb = model_cb.predict_proba(X_test.loc[:,['message']])[:, 1]\n",
    "probs_cb"
   ]
  },
  {
   "cell_type": "code",
   "execution_count": null,
   "id": "GJs7c6WmskDx",
   "metadata": {
    "id": "GJs7c6WmskDx"
   },
   "outputs": [],
   "source": [
    "# Load transformer\n",
    "! cp $PATH_MAIN_DIR/../models/roberta_model_0548.zip /content/ "
   ]
  },
  {
   "cell_type": "code",
   "execution_count": null,
   "id": "leC27PbNsw3s",
   "metadata": {
    "colab": {
     "base_uri": "https://localhost:8080/"
    },
    "executionInfo": {
     "elapsed": 16381,
     "status": "ok",
     "timestamp": 1670940502444,
     "user": {
      "displayName": "AnT",
      "userId": "07342426211356883844"
     },
     "user_tz": -180
    },
    "id": "leC27PbNsw3s",
    "outputId": "2b71d74f-2713-4923-ee2d-e5cdb4cfbc03"
   },
   "outputs": [
    {
     "name": "stdout",
     "output_type": "stream",
     "text": [
      "Archive:  roberta_model_0548.zip\n",
      "   creating: content/roberta_model/checkpoint-2265-epoch-3/\n",
      "  inflating: content/roberta_model/checkpoint-2265-epoch-3/merges.txt  \n",
      "  inflating: content/roberta_model/checkpoint-2265-epoch-3/tokenizer.json  \n",
      "  inflating: content/roberta_model/checkpoint-2265-epoch-3/config.json  \n",
      "  inflating: content/roberta_model/checkpoint-2265-epoch-3/optimizer.pt  \n",
      "  inflating: content/roberta_model/checkpoint-2265-epoch-3/model_args.json  \n",
      "  inflating: content/roberta_model/checkpoint-2265-epoch-3/vocab.json  \n",
      "  inflating: content/roberta_model/checkpoint-2265-epoch-3/pytorch_model.bin  \n",
      "  inflating: content/roberta_model/checkpoint-2265-epoch-3/training_args.bin  \n",
      "  inflating: content/roberta_model/checkpoint-2265-epoch-3/tokenizer_config.json  \n",
      "  inflating: content/roberta_model/checkpoint-2265-epoch-3/special_tokens_map.json  \n",
      "  inflating: content/roberta_model/checkpoint-2265-epoch-3/scheduler.pt  \n"
     ]
    }
   ],
   "source": [
    "! unzip roberta_model_0548.zip"
   ]
  },
  {
   "cell_type": "code",
   "execution_count": null,
   "id": "FpJi5WPDtuP4",
   "metadata": {
    "id": "FpJi5WPDtuP4"
   },
   "outputs": [],
   "source": [
    "!pip install wandb --quiet\n",
    "!pip install simpletransformers --quiet\n",
    "from simpletransformers.classification import ClassificationModel, ClassificationArgs"
   ]
  },
  {
   "cell_type": "code",
   "execution_count": null,
   "id": "skUDUD6ptDUc",
   "metadata": {
    "id": "skUDUD6ptDUc"
   },
   "outputs": [],
   "source": [
    "is_cuda = True if torch.cuda.is_available() else False\n",
    "\n",
    "model_args = ClassificationArgs()\n",
    "model_args.num_train_epochs = 2\n",
    "model_args.regression = False\n",
    "model_args.use_multiprocessing=is_cuda\n",
    "model_args.use_multiprocessing_for_evaluation=is_cuda\n",
    "model_args.overwrite_output_dir=True\n",
    "model_args.train_batch_size = 128\n",
    "\n",
    "model_tr = ClassificationModel(\n",
    "                            \"roberta\",\n",
    "                            \"content/roberta_model/checkpoint-2265-epoch-3/\", #\"distilroberta-base\",\n",
    "                            num_labels=2,\n",
    "                            use_cuda=is_cuda,\n",
    "                            args=model_args\n",
    "                            )\n"
   ]
  },
  {
   "cell_type": "code",
   "execution_count": null,
   "id": "XNoyG3da0y5X",
   "metadata": {
    "id": "XNoyG3da0y5X"
   },
   "outputs": [],
   "source": []
  },
  {
   "cell_type": "code",
   "execution_count": null,
   "id": "l2BTCD6Ptljd",
   "metadata": {
    "colab": {
     "base_uri": "https://localhost:8080/",
     "height": 81,
     "referenced_widgets": [
      "a3ec4254b7bc4489b4cc66e7ed6a209d",
      "7d3e68311f404cf68b9b725505291340",
      "3ada3824fdf24a49b3cc0d7cdac97c3a",
      "c559594df55345f282f3def5d1d73838",
      "324e4b19e79146a0b3b51cf2f3f9c3f3",
      "4cbdf9d59e2141ccbfb157ae8de7e165",
      "5d48dcb4e57a45728240c99c69f670c2",
      "63df96ae062249658f229f72f549c9da",
      "88dbc50c02884857975deee3e4625710",
      "efb97bfcda4d439d86ce1b18ac4cb9b4",
      "784dbb97b56d4d5a8d1eccbcc2785e75",
      "d830cd91c33242e9a9f9be38bfac0436",
      "c90271415f694373a51e7065da896547",
      "11746f8e65e64fc9ace185e3d457eb11",
      "1c2806f304294e2980434d753c695bcf",
      "2e3d386b60ec4643a94f358f8a63d492",
      "ebad012adee440a2aecc16c255685a33",
      "ad27bee22fcf4c049dfda9ac55ae295b",
      "3df1c8686658486bb29c5d7189438e0d",
      "75990bed21284517b5950bb0adb107da",
      "466651070b894e5fae21d2fe2e23dbbc",
      "ac30fd8cc0904d2185af6ed726fc25ba"
     ]
    },
    "executionInfo": {
     "elapsed": 67539,
     "status": "ok",
     "timestamp": 1670940599602,
     "user": {
      "displayName": "AnT",
      "userId": "07342426211356883844"
     },
     "user_tz": -180
    },
    "id": "l2BTCD6Ptljd",
    "outputId": "11d12e94-ccac-4643-fb33-897fae7204d7"
   },
   "outputs": [
    {
     "data": {
      "application/vnd.jupyter.widget-view+json": {
       "model_id": "a3ec4254b7bc4489b4cc66e7ed6a209d",
       "version_major": 2,
       "version_minor": 0
      },
      "text/plain": [
       "  0%|          | 0/17038 [00:00<?, ?it/s]"
      ]
     },
     "metadata": {},
     "output_type": "display_data"
    },
    {
     "data": {
      "application/vnd.jupyter.widget-view+json": {
       "model_id": "d830cd91c33242e9a9f9be38bfac0436",
       "version_major": 2,
       "version_minor": 0
      },
      "text/plain": [
       "  0%|          | 0/2130 [00:00<?, ?it/s]"
      ]
     },
     "metadata": {},
     "output_type": "display_data"
    }
   ],
   "source": [
    "# Get predictions\n",
    "y_pred_tr, y_probs_tr = model_tr.predict(list(X_test['message']))\n"
   ]
  },
  {
   "cell_type": "code",
   "execution_count": null,
   "id": "0-D3pDch0zxu",
   "metadata": {
    "id": "0-D3pDch0zxu"
   },
   "outputs": [],
   "source": [
    "score_tr = accuracy_score(y_pred_tr, y_test)\n",
    "assert np.isclose(score_tr, 0.548, atol=0.001)"
   ]
  },
  {
   "cell_type": "code",
   "execution_count": null,
   "id": "BfDhUA4g1P38",
   "metadata": {
    "id": "BfDhUA4g1P38"
   },
   "outputs": [],
   "source": [
    "from scipy.special import softmax"
   ]
  },
  {
   "cell_type": "code",
   "execution_count": null,
   "id": "OlY_FPNj0noD",
   "metadata": {
    "colab": {
     "base_uri": "https://localhost:8080/"
    },
    "executionInfo": {
     "elapsed": 8,
     "status": "ok",
     "timestamp": 1670940877042,
     "user": {
      "displayName": "AnT",
      "userId": "07342426211356883844"
     },
     "user_tz": -180
    },
    "id": "OlY_FPNj0noD",
    "outputId": "4208e37e-3af5-4fc9-9952-a2484569cb70"
   },
   "outputs": [
    {
     "data": {
      "text/plain": [
       "array([0.53479474, 0.33807712, 0.58064931, ..., 0.45675808, 0.43467126,\n",
       "       0.58020339])"
      ]
     },
     "execution_count": 73,
     "metadata": {},
     "output_type": "execute_result"
    }
   ],
   "source": [
    "probs_tr = softmax(y_probs_tr, axis=1)[:, 1]\n",
    "probs_tr"
   ]
  },
  {
   "cell_type": "markdown",
   "id": "7e7ff382",
   "metadata": {},
   "source": [
    "## Do blending for NB+CB, NB+TR, NB+CB+TR"
   ]
  },
  {
   "cell_type": "code",
   "execution_count": null,
   "id": "KZ-6k80euuQ-",
   "metadata": {
    "colab": {
     "base_uri": "https://localhost:8080/"
    },
    "executionInfo": {
     "elapsed": 4,
     "status": "ok",
     "timestamp": 1670941009115,
     "user": {
      "displayName": "AnT",
      "userId": "07342426211356883844"
     },
     "user_tz": -180
    },
    "id": "KZ-6k80euuQ-",
    "outputId": "3769723e-669f-4cea-a568-29604d1eba4d"
   },
   "outputs": [
    {
     "name": "stdout",
     "output_type": "stream",
     "text": [
      "0.00, 0.5588\n",
      "0.10, 0.5750\n",
      "0.20, 0.5785\n",
      "0.30, 0.5784\n",
      "0.40, 0.5775\n",
      "0.50, 0.5769\n",
      "0.60, 0.5763\n",
      "0.70, 0.5758\n",
      "0.80, 0.5758\n",
      "0.90, 0.5744\n",
      "1.00, 0.5724\n"
     ]
    }
   ],
   "source": [
    "for p in np.arange(0, 1+1e-6, 0.1):\n",
    "    q = 1.0 - p\n",
    "    probs = (p * probs_nb + q * probs_cb) >= 0.5\n",
    "    y_pred = probs * 1  # Bools to ints\n",
    "    score = accuracy_score(y_test, y_pred)\n",
    "    print(f\"{p:.2f}, {score:.4f}\") "
   ]
  },
  {
   "cell_type": "code",
   "execution_count": null,
   "id": "r2pYit8s2IbM",
   "metadata": {
    "colab": {
     "base_uri": "https://localhost:8080/"
    },
    "executionInfo": {
     "elapsed": 9,
     "status": "ok",
     "timestamp": 1670941029708,
     "user": {
      "displayName": "AnT",
      "userId": "07342426211356883844"
     },
     "user_tz": -180
    },
    "id": "r2pYit8s2IbM",
    "outputId": "4e487139-f4ec-4a27-c761-5d8d45383123"
   },
   "outputs": [
    {
     "name": "stdout",
     "output_type": "stream",
     "text": [
      "0.00, 0.5475\n",
      "0.10, 0.5603\n",
      "0.20, 0.5704\n",
      "0.30, 0.5765\n",
      "0.40, 0.5775\n",
      "0.50, 0.5760\n",
      "0.60, 0.5760\n",
      "0.70, 0.5747\n",
      "0.80, 0.5732\n",
      "0.90, 0.5742\n",
      "1.00, 0.5724\n"
     ]
    }
   ],
   "source": [
    "for p in np.arange(0, 1+1e-6, 0.1):\n",
    "    q = 1.0 - p\n",
    "    probs = (p * probs_nb + q * probs_tr) >= 0.5\n",
    "    y_pred = probs * 1  # Bools to ints\n",
    "    score = accuracy_score(y_test, y_pred)\n",
    "    print(f\"{p:.2f}, {score:.4f}\") "
   ]
  },
  {
   "cell_type": "code",
   "execution_count": null,
   "id": "vkLap-I6vpyN",
   "metadata": {
    "colab": {
     "base_uri": "https://localhost:8080/"
    },
    "executionInfo": {
     "elapsed": 765,
     "status": "ok",
     "timestamp": 1670941525387,
     "user": {
      "displayName": "AnT",
      "userId": "07342426211356883844"
     },
     "user_tz": -180
    },
    "id": "vkLap-I6vpyN",
    "outputId": "001db7b5-21c9-45a3-9345-7f72d1386d0a"
   },
   "outputs": [
    {
     "name": "stdout",
     "output_type": "stream",
     "text": [
      "0.00, 0.00, 1.00: 0.5475, 0.54754\n",
      "0.00, 0.10, 0.90: 0.5483, 0.54830\n",
      "0.00, 0.20, 0.80: 0.5512, 0.55124\n",
      "0.00, 0.30, 0.70: 0.5550, 0.55499\n",
      "0.00, 0.40, 0.60: 0.5561, 0.55605\n",
      "0.00, 0.50, 0.50: 0.5586, 0.55857\n",
      "0.00, 0.60, 0.40: 0.5626, 0.56257\n",
      "0.00, 0.70, 0.30: 0.5654, 0.56544\n",
      "0.00, 0.80, 0.20: 0.5659, 0.56591\n",
      "0.00, 0.90, 0.10: 0.5601, 0.56591\n",
      "0.00, 1.00, 0.00: 0.5588, 0.56591\n",
      "0.10, 0.00, 0.90: 0.5603, 0.56591\n",
      "0.10, 0.10, 0.80: 0.5643, 0.56591\n",
      "0.10, 0.20, 0.70: 0.5664, 0.56644\n",
      "0.10, 0.30, 0.60: 0.5684, 0.56838\n",
      "0.10, 0.40, 0.50: 0.5714, 0.57137\n",
      "0.10, 0.50, 0.40: 0.5732, 0.57319\n",
      "0.10, 0.60, 0.30: 0.5747, 0.57466\n",
      "0.10, 0.70, 0.20: 0.5762, 0.57624\n",
      "0.10, 0.80, 0.10: 0.5762, 0.57624\n",
      "0.10, 0.90, 0.00: 0.5750, 0.57624\n",
      "0.20, 0.00, 0.80: 0.5704, 0.57624\n",
      "0.20, 0.10, 0.70: 0.5724, 0.57624\n",
      "0.20, 0.20, 0.60: 0.5753, 0.57624\n",
      "0.20, 0.30, 0.50: 0.5772, 0.57724\n",
      "0.20, 0.40, 0.40: 0.5795, 0.57953\n",
      "0.20, 0.50, 0.30: 0.5783, 0.57953\n",
      "0.20, 0.60, 0.20: 0.5791, 0.57953\n",
      "0.20, 0.70, 0.10: 0.5778, 0.57953\n",
      "0.20, 0.80, 0.00: 0.5785, 0.57953\n",
      "0.30, 0.00, 0.70: 0.5765, 0.57953\n",
      "0.30, 0.10, 0.60: 0.5776, 0.57953\n",
      "0.30, 0.20, 0.50: 0.5801, 0.58012\n",
      "0.30, 0.30, 0.40: 0.5810, 0.58100\n",
      "0.30, 0.40, 0.30: 0.5812, 0.58117\n",
      "0.30, 0.50, 0.20: 0.5800, 0.58117\n",
      "0.30, 0.60, 0.10: 0.5786, 0.58117\n",
      "0.30, 0.70, 0.00: 0.5784, 0.58117\n",
      "0.40, 0.00, 0.60: 0.5775, 0.58117\n",
      "0.40, 0.10, 0.50: 0.5787, 0.58117\n",
      "0.40, 0.20, 0.40: 0.5781, 0.58117\n",
      "0.40, 0.30, 0.30: 0.5791, 0.58117\n",
      "0.40, 0.40, 0.20: 0.5792, 0.58117\n",
      "0.40, 0.50, 0.10: 0.5771, 0.58117\n",
      "0.40, 0.60, 0.00: 0.5775, 0.58117\n",
      "0.50, 0.00, 0.50: 0.5760, 0.58117\n",
      "0.50, 0.10, 0.40: 0.5765, 0.58117\n",
      "0.50, 0.20, 0.30: 0.5769, 0.58117\n",
      "0.50, 0.30, 0.20: 0.5771, 0.58117\n",
      "0.50, 0.40, 0.10: 0.5759, 0.58117\n",
      "0.50, 0.50, 0.00: 0.5769, 0.58117\n",
      "0.60, 0.00, 0.40: 0.5760, 0.58117\n",
      "0.60, 0.10, 0.30: 0.5751, 0.58117\n",
      "0.60, 0.20, 0.20: 0.5752, 0.58117\n",
      "0.60, 0.30, 0.10: 0.5752, 0.58117\n",
      "0.60, 0.40, 0.00: 0.5763, 0.58117\n",
      "0.70, 0.00, 0.30: 0.5747, 0.58117\n",
      "0.70, 0.10, 0.20: 0.5745, 0.58117\n",
      "0.70, 0.20, 0.10: 0.5750, 0.58117\n",
      "0.70, 0.30, 0.00: 0.5758, 0.58117\n",
      "0.80, 0.00, 0.20: 0.5732, 0.58117\n",
      "0.80, 0.10, 0.10: 0.5743, 0.58117\n",
      "0.80, 0.20, 0.00: 0.5758, 0.58117\n",
      "0.90, 0.00, 0.10: 0.5742, 0.58117\n",
      "0.90, 0.10, 0.00: 0.5744, 0.58117\n",
      "1.00, 0.00, 0.00: 0.5724, 0.58117\n",
      "Best: 0.58117, (0.3, 0.4, 0.3)\n"
     ]
    }
   ],
   "source": [
    "# 0 0 100\n",
    "# 0 50 50\n",
    "# 0 100 0\n",
    "# 50 0 50\n",
    "# 50 50 0\n",
    "# 100 0 0\n",
    "\n",
    "max_score = 0\n",
    "max_pqz = ()\n",
    "for p in range(0, 101, 10):\n",
    "    for q in range(0, 101, 10):\n",
    "      z = 100-p-q\n",
    "      if p < 0 or q <0 or z < 0:\n",
    "          continue\n",
    "      #print(p, q, z, 100-p-q-z)\n",
    "\n",
    "      pp = p / 100.0\n",
    "      qq = q / 100.0\n",
    "      zz = z / 100.0\n",
    "      probs = (pp * probs_nb + qq * probs_cb + zz * probs_tr) >= 0.5\n",
    "      y_pred = probs * 1  # Bools to ints\n",
    "      score = accuracy_score(y_test, y_pred)\n",
    "      if max_score < score:\n",
    "          max_score = score\n",
    "          max_pqz = (pp, qq, zz)\n",
    "      print(f\"{pp:.2f}, {qq:.2f}, {zz:.2f}: {score:.4f}, {max_score:.5f}\") \n",
    "\n",
    "      # q = 1.0 - p\n",
    "      # probs = (p * probs_nb + q * probs_cb) >= 0.5\n",
    "      # y_pred = probs * 1  # Bools to ints\n",
    "      # score = accuracy_score(y_test, y_pred)\n",
    "      # print(p, score)\n",
    "\n",
    "print(f\"Best: {max_score:.5f}, {max_pqz}\") "
   ]
  },
  {
   "cell_type": "code",
   "execution_count": null,
   "id": "7MJctiedwl71",
   "metadata": {
    "id": "7MJctiedwl71"
   },
   "outputs": [],
   "source": []
  }
 ],
 "metadata": {
  "accelerator": "GPU",
  "colab": {
   "provenance": [],
   "toc_visible": true
  },
  "gpuClass": "standard",
  "kernelspec": {
   "display_name": "Python 3 (ipykernel)",
   "language": "python",
   "name": "python3"
  },
  "language_info": {
   "codemirror_mode": {
    "name": "ipython",
    "version": 3
   },
   "file_extension": ".py",
   "mimetype": "text/x-python",
   "name": "python",
   "nbconvert_exporter": "python",
   "pygments_lexer": "ipython3",
   "version": "3.9.12"
  },
  "toc": {
   "base_numbering": 1,
   "nav_menu": {},
   "number_sections": true,
   "sideBar": true,
   "skip_h1_title": false,
   "title_cell": "Table of Contents",
   "title_sidebar": "Contents",
   "toc_cell": false,
   "toc_position": {
    "height": "714.688px",
    "left": "30px",
    "top": "165.297px",
    "width": "310px"
   },
   "toc_section_display": true,
   "toc_window_display": true
  },
  "varInspector": {
   "cols": {
    "lenName": 16,
    "lenType": 16,
    "lenVar": 40
   },
   "kernels_config": {
    "python": {
     "delete_cmd_postfix": "",
     "delete_cmd_prefix": "del ",
     "library": "var_list.py",
     "varRefreshCmd": "print(var_dic_list())"
    },
    "r": {
     "delete_cmd_postfix": ") ",
     "delete_cmd_prefix": "rm(",
     "library": "var_list.r",
     "varRefreshCmd": "cat(var_dic_list()) "
    }
   },
   "types_to_exclude": [
    "module",
    "function",
    "builtin_function_or_method",
    "instance",
    "_Feature"
   ],
   "window_display": false
  },
  "widgets": {
   "application/vnd.jupyter.widget-state+json": {
    "11746f8e65e64fc9ace185e3d457eb11": {
     "model_module": "@jupyter-widgets/controls",
     "model_module_version": "1.5.0",
     "model_name": "FloatProgressModel",
     "state": {
      "_dom_classes": [],
      "_model_module": "@jupyter-widgets/controls",
      "_model_module_version": "1.5.0",
      "_model_name": "FloatProgressModel",
      "_view_count": null,
      "_view_module": "@jupyter-widgets/controls",
      "_view_module_version": "1.5.0",
      "_view_name": "ProgressView",
      "bar_style": "success",
      "description": "",
      "description_tooltip": null,
      "layout": "IPY_MODEL_3df1c8686658486bb29c5d7189438e0d",
      "max": 2130,
      "min": 0,
      "orientation": "horizontal",
      "style": "IPY_MODEL_75990bed21284517b5950bb0adb107da",
      "value": 2130
     }
    },
    "1c2806f304294e2980434d753c695bcf": {
     "model_module": "@jupyter-widgets/controls",
     "model_module_version": "1.5.0",
     "model_name": "HTMLModel",
     "state": {
      "_dom_classes": [],
      "_model_module": "@jupyter-widgets/controls",
      "_model_module_version": "1.5.0",
      "_model_name": "HTMLModel",
      "_view_count": null,
      "_view_module": "@jupyter-widgets/controls",
      "_view_module_version": "1.5.0",
      "_view_name": "HTMLView",
      "description": "",
      "description_tooltip": null,
      "layout": "IPY_MODEL_466651070b894e5fae21d2fe2e23dbbc",
      "placeholder": "​",
      "style": "IPY_MODEL_ac30fd8cc0904d2185af6ed726fc25ba",
      "value": " 2130/2130 [00:46&lt;00:00, 49.61it/s]"
     }
    },
    "2e3d386b60ec4643a94f358f8a63d492": {
     "model_module": "@jupyter-widgets/base",
     "model_module_version": "1.2.0",
     "model_name": "LayoutModel",
     "state": {
      "_model_module": "@jupyter-widgets/base",
      "_model_module_version": "1.2.0",
      "_model_name": "LayoutModel",
      "_view_count": null,
      "_view_module": "@jupyter-widgets/base",
      "_view_module_version": "1.2.0",
      "_view_name": "LayoutView",
      "align_content": null,
      "align_items": null,
      "align_self": null,
      "border": null,
      "bottom": null,
      "display": null,
      "flex": null,
      "flex_flow": null,
      "grid_area": null,
      "grid_auto_columns": null,
      "grid_auto_flow": null,
      "grid_auto_rows": null,
      "grid_column": null,
      "grid_gap": null,
      "grid_row": null,
      "grid_template_areas": null,
      "grid_template_columns": null,
      "grid_template_rows": null,
      "height": null,
      "justify_content": null,
      "justify_items": null,
      "left": null,
      "margin": null,
      "max_height": null,
      "max_width": null,
      "min_height": null,
      "min_width": null,
      "object_fit": null,
      "object_position": null,
      "order": null,
      "overflow": null,
      "overflow_x": null,
      "overflow_y": null,
      "padding": null,
      "right": null,
      "top": null,
      "visibility": null,
      "width": null
     }
    },
    "324e4b19e79146a0b3b51cf2f3f9c3f3": {
     "model_module": "@jupyter-widgets/base",
     "model_module_version": "1.2.0",
     "model_name": "LayoutModel",
     "state": {
      "_model_module": "@jupyter-widgets/base",
      "_model_module_version": "1.2.0",
      "_model_name": "LayoutModel",
      "_view_count": null,
      "_view_module": "@jupyter-widgets/base",
      "_view_module_version": "1.2.0",
      "_view_name": "LayoutView",
      "align_content": null,
      "align_items": null,
      "align_self": null,
      "border": null,
      "bottom": null,
      "display": null,
      "flex": null,
      "flex_flow": null,
      "grid_area": null,
      "grid_auto_columns": null,
      "grid_auto_flow": null,
      "grid_auto_rows": null,
      "grid_column": null,
      "grid_gap": null,
      "grid_row": null,
      "grid_template_areas": null,
      "grid_template_columns": null,
      "grid_template_rows": null,
      "height": null,
      "justify_content": null,
      "justify_items": null,
      "left": null,
      "margin": null,
      "max_height": null,
      "max_width": null,
      "min_height": null,
      "min_width": null,
      "object_fit": null,
      "object_position": null,
      "order": null,
      "overflow": null,
      "overflow_x": null,
      "overflow_y": null,
      "padding": null,
      "right": null,
      "top": null,
      "visibility": null,
      "width": null
     }
    },
    "3ada3824fdf24a49b3cc0d7cdac97c3a": {
     "model_module": "@jupyter-widgets/controls",
     "model_module_version": "1.5.0",
     "model_name": "FloatProgressModel",
     "state": {
      "_dom_classes": [],
      "_model_module": "@jupyter-widgets/controls",
      "_model_module_version": "1.5.0",
      "_model_name": "FloatProgressModel",
      "_view_count": null,
      "_view_module": "@jupyter-widgets/controls",
      "_view_module_version": "1.5.0",
      "_view_name": "ProgressView",
      "bar_style": "danger",
      "description": "",
      "description_tooltip": null,
      "layout": "IPY_MODEL_63df96ae062249658f229f72f549c9da",
      "max": 17038,
      "min": 0,
      "orientation": "horizontal",
      "style": "IPY_MODEL_88dbc50c02884857975deee3e4625710",
      "value": 35
     }
    },
    "3df1c8686658486bb29c5d7189438e0d": {
     "model_module": "@jupyter-widgets/base",
     "model_module_version": "1.2.0",
     "model_name": "LayoutModel",
     "state": {
      "_model_module": "@jupyter-widgets/base",
      "_model_module_version": "1.2.0",
      "_model_name": "LayoutModel",
      "_view_count": null,
      "_view_module": "@jupyter-widgets/base",
      "_view_module_version": "1.2.0",
      "_view_name": "LayoutView",
      "align_content": null,
      "align_items": null,
      "align_self": null,
      "border": null,
      "bottom": null,
      "display": null,
      "flex": null,
      "flex_flow": null,
      "grid_area": null,
      "grid_auto_columns": null,
      "grid_auto_flow": null,
      "grid_auto_rows": null,
      "grid_column": null,
      "grid_gap": null,
      "grid_row": null,
      "grid_template_areas": null,
      "grid_template_columns": null,
      "grid_template_rows": null,
      "height": null,
      "justify_content": null,
      "justify_items": null,
      "left": null,
      "margin": null,
      "max_height": null,
      "max_width": null,
      "min_height": null,
      "min_width": null,
      "object_fit": null,
      "object_position": null,
      "order": null,
      "overflow": null,
      "overflow_x": null,
      "overflow_y": null,
      "padding": null,
      "right": null,
      "top": null,
      "visibility": null,
      "width": null
     }
    },
    "466651070b894e5fae21d2fe2e23dbbc": {
     "model_module": "@jupyter-widgets/base",
     "model_module_version": "1.2.0",
     "model_name": "LayoutModel",
     "state": {
      "_model_module": "@jupyter-widgets/base",
      "_model_module_version": "1.2.0",
      "_model_name": "LayoutModel",
      "_view_count": null,
      "_view_module": "@jupyter-widgets/base",
      "_view_module_version": "1.2.0",
      "_view_name": "LayoutView",
      "align_content": null,
      "align_items": null,
      "align_self": null,
      "border": null,
      "bottom": null,
      "display": null,
      "flex": null,
      "flex_flow": null,
      "grid_area": null,
      "grid_auto_columns": null,
      "grid_auto_flow": null,
      "grid_auto_rows": null,
      "grid_column": null,
      "grid_gap": null,
      "grid_row": null,
      "grid_template_areas": null,
      "grid_template_columns": null,
      "grid_template_rows": null,
      "height": null,
      "justify_content": null,
      "justify_items": null,
      "left": null,
      "margin": null,
      "max_height": null,
      "max_width": null,
      "min_height": null,
      "min_width": null,
      "object_fit": null,
      "object_position": null,
      "order": null,
      "overflow": null,
      "overflow_x": null,
      "overflow_y": null,
      "padding": null,
      "right": null,
      "top": null,
      "visibility": null,
      "width": null
     }
    },
    "4cbdf9d59e2141ccbfb157ae8de7e165": {
     "model_module": "@jupyter-widgets/base",
     "model_module_version": "1.2.0",
     "model_name": "LayoutModel",
     "state": {
      "_model_module": "@jupyter-widgets/base",
      "_model_module_version": "1.2.0",
      "_model_name": "LayoutModel",
      "_view_count": null,
      "_view_module": "@jupyter-widgets/base",
      "_view_module_version": "1.2.0",
      "_view_name": "LayoutView",
      "align_content": null,
      "align_items": null,
      "align_self": null,
      "border": null,
      "bottom": null,
      "display": null,
      "flex": null,
      "flex_flow": null,
      "grid_area": null,
      "grid_auto_columns": null,
      "grid_auto_flow": null,
      "grid_auto_rows": null,
      "grid_column": null,
      "grid_gap": null,
      "grid_row": null,
      "grid_template_areas": null,
      "grid_template_columns": null,
      "grid_template_rows": null,
      "height": null,
      "justify_content": null,
      "justify_items": null,
      "left": null,
      "margin": null,
      "max_height": null,
      "max_width": null,
      "min_height": null,
      "min_width": null,
      "object_fit": null,
      "object_position": null,
      "order": null,
      "overflow": null,
      "overflow_x": null,
      "overflow_y": null,
      "padding": null,
      "right": null,
      "top": null,
      "visibility": null,
      "width": null
     }
    },
    "5d48dcb4e57a45728240c99c69f670c2": {
     "model_module": "@jupyter-widgets/controls",
     "model_module_version": "1.5.0",
     "model_name": "DescriptionStyleModel",
     "state": {
      "_model_module": "@jupyter-widgets/controls",
      "_model_module_version": "1.5.0",
      "_model_name": "DescriptionStyleModel",
      "_view_count": null,
      "_view_module": "@jupyter-widgets/base",
      "_view_module_version": "1.2.0",
      "_view_name": "StyleView",
      "description_width": ""
     }
    },
    "63df96ae062249658f229f72f549c9da": {
     "model_module": "@jupyter-widgets/base",
     "model_module_version": "1.2.0",
     "model_name": "LayoutModel",
     "state": {
      "_model_module": "@jupyter-widgets/base",
      "_model_module_version": "1.2.0",
      "_model_name": "LayoutModel",
      "_view_count": null,
      "_view_module": "@jupyter-widgets/base",
      "_view_module_version": "1.2.0",
      "_view_name": "LayoutView",
      "align_content": null,
      "align_items": null,
      "align_self": null,
      "border": null,
      "bottom": null,
      "display": null,
      "flex": null,
      "flex_flow": null,
      "grid_area": null,
      "grid_auto_columns": null,
      "grid_auto_flow": null,
      "grid_auto_rows": null,
      "grid_column": null,
      "grid_gap": null,
      "grid_row": null,
      "grid_template_areas": null,
      "grid_template_columns": null,
      "grid_template_rows": null,
      "height": null,
      "justify_content": null,
      "justify_items": null,
      "left": null,
      "margin": null,
      "max_height": null,
      "max_width": null,
      "min_height": null,
      "min_width": null,
      "object_fit": null,
      "object_position": null,
      "order": null,
      "overflow": null,
      "overflow_x": null,
      "overflow_y": null,
      "padding": null,
      "right": null,
      "top": null,
      "visibility": null,
      "width": null
     }
    },
    "75990bed21284517b5950bb0adb107da": {
     "model_module": "@jupyter-widgets/controls",
     "model_module_version": "1.5.0",
     "model_name": "ProgressStyleModel",
     "state": {
      "_model_module": "@jupyter-widgets/controls",
      "_model_module_version": "1.5.0",
      "_model_name": "ProgressStyleModel",
      "_view_count": null,
      "_view_module": "@jupyter-widgets/base",
      "_view_module_version": "1.2.0",
      "_view_name": "StyleView",
      "bar_color": null,
      "description_width": ""
     }
    },
    "784dbb97b56d4d5a8d1eccbcc2785e75": {
     "model_module": "@jupyter-widgets/controls",
     "model_module_version": "1.5.0",
     "model_name": "DescriptionStyleModel",
     "state": {
      "_model_module": "@jupyter-widgets/controls",
      "_model_module_version": "1.5.0",
      "_model_name": "DescriptionStyleModel",
      "_view_count": null,
      "_view_module": "@jupyter-widgets/base",
      "_view_module_version": "1.2.0",
      "_view_name": "StyleView",
      "description_width": ""
     }
    },
    "7d3e68311f404cf68b9b725505291340": {
     "model_module": "@jupyter-widgets/controls",
     "model_module_version": "1.5.0",
     "model_name": "HTMLModel",
     "state": {
      "_dom_classes": [],
      "_model_module": "@jupyter-widgets/controls",
      "_model_module_version": "1.5.0",
      "_model_name": "HTMLModel",
      "_view_count": null,
      "_view_module": "@jupyter-widgets/controls",
      "_view_module_version": "1.5.0",
      "_view_name": "HTMLView",
      "description": "",
      "description_tooltip": null,
      "layout": "IPY_MODEL_4cbdf9d59e2141ccbfb157ae8de7e165",
      "placeholder": "​",
      "style": "IPY_MODEL_5d48dcb4e57a45728240c99c69f670c2",
      "value": "  0%"
     }
    },
    "88dbc50c02884857975deee3e4625710": {
     "model_module": "@jupyter-widgets/controls",
     "model_module_version": "1.5.0",
     "model_name": "ProgressStyleModel",
     "state": {
      "_model_module": "@jupyter-widgets/controls",
      "_model_module_version": "1.5.0",
      "_model_name": "ProgressStyleModel",
      "_view_count": null,
      "_view_module": "@jupyter-widgets/base",
      "_view_module_version": "1.2.0",
      "_view_name": "StyleView",
      "bar_color": null,
      "description_width": ""
     }
    },
    "a3ec4254b7bc4489b4cc66e7ed6a209d": {
     "model_module": "@jupyter-widgets/controls",
     "model_module_version": "1.5.0",
     "model_name": "HBoxModel",
     "state": {
      "_dom_classes": [],
      "_model_module": "@jupyter-widgets/controls",
      "_model_module_version": "1.5.0",
      "_model_name": "HBoxModel",
      "_view_count": null,
      "_view_module": "@jupyter-widgets/controls",
      "_view_module_version": "1.5.0",
      "_view_name": "HBoxView",
      "box_style": "",
      "children": [
       "IPY_MODEL_7d3e68311f404cf68b9b725505291340",
       "IPY_MODEL_3ada3824fdf24a49b3cc0d7cdac97c3a",
       "IPY_MODEL_c559594df55345f282f3def5d1d73838"
      ],
      "layout": "IPY_MODEL_324e4b19e79146a0b3b51cf2f3f9c3f3"
     }
    },
    "ac30fd8cc0904d2185af6ed726fc25ba": {
     "model_module": "@jupyter-widgets/controls",
     "model_module_version": "1.5.0",
     "model_name": "DescriptionStyleModel",
     "state": {
      "_model_module": "@jupyter-widgets/controls",
      "_model_module_version": "1.5.0",
      "_model_name": "DescriptionStyleModel",
      "_view_count": null,
      "_view_module": "@jupyter-widgets/base",
      "_view_module_version": "1.2.0",
      "_view_name": "StyleView",
      "description_width": ""
     }
    },
    "ad27bee22fcf4c049dfda9ac55ae295b": {
     "model_module": "@jupyter-widgets/controls",
     "model_module_version": "1.5.0",
     "model_name": "DescriptionStyleModel",
     "state": {
      "_model_module": "@jupyter-widgets/controls",
      "_model_module_version": "1.5.0",
      "_model_name": "DescriptionStyleModel",
      "_view_count": null,
      "_view_module": "@jupyter-widgets/base",
      "_view_module_version": "1.2.0",
      "_view_name": "StyleView",
      "description_width": ""
     }
    },
    "c559594df55345f282f3def5d1d73838": {
     "model_module": "@jupyter-widgets/controls",
     "model_module_version": "1.5.0",
     "model_name": "HTMLModel",
     "state": {
      "_dom_classes": [],
      "_model_module": "@jupyter-widgets/controls",
      "_model_module_version": "1.5.0",
      "_model_name": "HTMLModel",
      "_view_count": null,
      "_view_module": "@jupyter-widgets/controls",
      "_view_module_version": "1.5.0",
      "_view_name": "HTMLView",
      "description": "",
      "description_tooltip": null,
      "layout": "IPY_MODEL_efb97bfcda4d439d86ce1b18ac4cb9b4",
      "placeholder": "​",
      "style": "IPY_MODEL_784dbb97b56d4d5a8d1eccbcc2785e75",
      "value": " 35/17038 [00:10&lt;1:17:49,  3.64it/s]"
     }
    },
    "c90271415f694373a51e7065da896547": {
     "model_module": "@jupyter-widgets/controls",
     "model_module_version": "1.5.0",
     "model_name": "HTMLModel",
     "state": {
      "_dom_classes": [],
      "_model_module": "@jupyter-widgets/controls",
      "_model_module_version": "1.5.0",
      "_model_name": "HTMLModel",
      "_view_count": null,
      "_view_module": "@jupyter-widgets/controls",
      "_view_module_version": "1.5.0",
      "_view_name": "HTMLView",
      "description": "",
      "description_tooltip": null,
      "layout": "IPY_MODEL_ebad012adee440a2aecc16c255685a33",
      "placeholder": "​",
      "style": "IPY_MODEL_ad27bee22fcf4c049dfda9ac55ae295b",
      "value": "100%"
     }
    },
    "d830cd91c33242e9a9f9be38bfac0436": {
     "model_module": "@jupyter-widgets/controls",
     "model_module_version": "1.5.0",
     "model_name": "HBoxModel",
     "state": {
      "_dom_classes": [],
      "_model_module": "@jupyter-widgets/controls",
      "_model_module_version": "1.5.0",
      "_model_name": "HBoxModel",
      "_view_count": null,
      "_view_module": "@jupyter-widgets/controls",
      "_view_module_version": "1.5.0",
      "_view_name": "HBoxView",
      "box_style": "",
      "children": [
       "IPY_MODEL_c90271415f694373a51e7065da896547",
       "IPY_MODEL_11746f8e65e64fc9ace185e3d457eb11",
       "IPY_MODEL_1c2806f304294e2980434d753c695bcf"
      ],
      "layout": "IPY_MODEL_2e3d386b60ec4643a94f358f8a63d492"
     }
    },
    "ebad012adee440a2aecc16c255685a33": {
     "model_module": "@jupyter-widgets/base",
     "model_module_version": "1.2.0",
     "model_name": "LayoutModel",
     "state": {
      "_model_module": "@jupyter-widgets/base",
      "_model_module_version": "1.2.0",
      "_model_name": "LayoutModel",
      "_view_count": null,
      "_view_module": "@jupyter-widgets/base",
      "_view_module_version": "1.2.0",
      "_view_name": "LayoutView",
      "align_content": null,
      "align_items": null,
      "align_self": null,
      "border": null,
      "bottom": null,
      "display": null,
      "flex": null,
      "flex_flow": null,
      "grid_area": null,
      "grid_auto_columns": null,
      "grid_auto_flow": null,
      "grid_auto_rows": null,
      "grid_column": null,
      "grid_gap": null,
      "grid_row": null,
      "grid_template_areas": null,
      "grid_template_columns": null,
      "grid_template_rows": null,
      "height": null,
      "justify_content": null,
      "justify_items": null,
      "left": null,
      "margin": null,
      "max_height": null,
      "max_width": null,
      "min_height": null,
      "min_width": null,
      "object_fit": null,
      "object_position": null,
      "order": null,
      "overflow": null,
      "overflow_x": null,
      "overflow_y": null,
      "padding": null,
      "right": null,
      "top": null,
      "visibility": null,
      "width": null
     }
    },
    "efb97bfcda4d439d86ce1b18ac4cb9b4": {
     "model_module": "@jupyter-widgets/base",
     "model_module_version": "1.2.0",
     "model_name": "LayoutModel",
     "state": {
      "_model_module": "@jupyter-widgets/base",
      "_model_module_version": "1.2.0",
      "_model_name": "LayoutModel",
      "_view_count": null,
      "_view_module": "@jupyter-widgets/base",
      "_view_module_version": "1.2.0",
      "_view_name": "LayoutView",
      "align_content": null,
      "align_items": null,
      "align_self": null,
      "border": null,
      "bottom": null,
      "display": null,
      "flex": null,
      "flex_flow": null,
      "grid_area": null,
      "grid_auto_columns": null,
      "grid_auto_flow": null,
      "grid_auto_rows": null,
      "grid_column": null,
      "grid_gap": null,
      "grid_row": null,
      "grid_template_areas": null,
      "grid_template_columns": null,
      "grid_template_rows": null,
      "height": null,
      "justify_content": null,
      "justify_items": null,
      "left": null,
      "margin": null,
      "max_height": null,
      "max_width": null,
      "min_height": null,
      "min_width": null,
      "object_fit": null,
      "object_position": null,
      "order": null,
      "overflow": null,
      "overflow_x": null,
      "overflow_y": null,
      "padding": null,
      "right": null,
      "top": null,
      "visibility": null,
      "width": null
     }
    }
   }
  }
 },
 "nbformat": 4,
 "nbformat_minor": 5
}
